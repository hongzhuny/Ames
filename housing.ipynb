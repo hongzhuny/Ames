{
 "cells": [
  {
   "cell_type": "code",
   "execution_count": 1,
   "metadata": {},
   "outputs": [],
   "source": [
    "import pandas as pd\n",
    "import numpy as np\n",
    "import os\n",
    "import datetime as dt\n",
    "import plotly.express as px\n"
   ]
  },
  {
   "cell_type": "markdown",
   "metadata": {},
   "source": [
    "# Data Source\n",
    "Ames, Iowa: Alternative to the Boston Housing Data as an End of Semester Regression Project"
   ]
  },
  {
   "cell_type": "code",
   "execution_count": 4,
   "metadata": {},
   "outputs": [
    {
     "data": {
      "text/plain": [
       "['Id',\n",
       " 'MSSubClass',\n",
       " 'MSZoning',\n",
       " 'LotFrontage',\n",
       " 'LotArea',\n",
       " 'Street',\n",
       " 'Alley',\n",
       " 'LotShape',\n",
       " 'LandContour',\n",
       " 'Utilities',\n",
       " 'LotConfig',\n",
       " 'LandSlope',\n",
       " 'Neighborhood',\n",
       " 'Condition1',\n",
       " 'Condition2',\n",
       " 'BldgType',\n",
       " 'HouseStyle',\n",
       " 'OverallQual',\n",
       " 'OverallCond',\n",
       " 'YearBuilt',\n",
       " 'YearRemodAdd',\n",
       " 'RoofStyle',\n",
       " 'RoofMatl',\n",
       " 'Exterior1st',\n",
       " 'Exterior2nd',\n",
       " 'MasVnrType',\n",
       " 'MasVnrArea',\n",
       " 'ExterQual',\n",
       " 'ExterCond',\n",
       " 'Foundation',\n",
       " 'BsmtQual',\n",
       " 'BsmtCond',\n",
       " 'BsmtExposure',\n",
       " 'BsmtFinType1',\n",
       " 'BsmtFinSF1',\n",
       " 'BsmtFinType2',\n",
       " 'BsmtFinSF2',\n",
       " 'BsmtUnfSF',\n",
       " 'TotalBsmtSF',\n",
       " 'Heating',\n",
       " 'HeatingQC',\n",
       " 'CentralAir',\n",
       " 'Electrical',\n",
       " '1stFlrSF',\n",
       " '2ndFlrSF',\n",
       " 'LowQualFinSF',\n",
       " 'GrLivArea',\n",
       " 'BsmtFullBath',\n",
       " 'BsmtHalfBath',\n",
       " 'FullBath',\n",
       " 'HalfBath',\n",
       " 'BedroomAbvGr',\n",
       " 'KitchenAbvGr',\n",
       " 'KitchenQual',\n",
       " 'TotRmsAbvGrd',\n",
       " 'Functional',\n",
       " 'Fireplaces',\n",
       " 'FireplaceQu',\n",
       " 'GarageType',\n",
       " 'GarageYrBlt',\n",
       " 'GarageFinish',\n",
       " 'GarageCars',\n",
       " 'GarageArea',\n",
       " 'GarageQual',\n",
       " 'GarageCond',\n",
       " 'PavedDrive',\n",
       " 'WoodDeckSF',\n",
       " 'OpenPorchSF',\n",
       " 'EnclosedPorch',\n",
       " '3SsnPorch',\n",
       " 'ScreenPorch',\n",
       " 'PoolArea',\n",
       " 'PoolQC',\n",
       " 'Fence',\n",
       " 'MiscFeature',\n",
       " 'MiscVal',\n",
       " 'MoSold',\n",
       " 'YrSold',\n",
       " 'SaleType',\n",
       " 'SaleCondition',\n",
       " 'SalePrice']"
      ]
     },
     "execution_count": 4,
     "metadata": {},
     "output_type": "execute_result"
    }
   ],
   "source": [
    "df = pd.read_csv('data/train.csv')\n",
    "df.columns.tolist()"
   ]
  },
  {
   "cell_type": "code",
   "execution_count": 5,
   "metadata": {},
   "outputs": [
    {
     "data": {
      "text/html": [
       "<div>\n",
       "<style scoped>\n",
       "    .dataframe tbody tr th:only-of-type {\n",
       "        vertical-align: middle;\n",
       "    }\n",
       "\n",
       "    .dataframe tbody tr th {\n",
       "        vertical-align: top;\n",
       "    }\n",
       "\n",
       "    .dataframe thead th {\n",
       "        text-align: right;\n",
       "    }\n",
       "</style>\n",
       "<table border=\"1\" class=\"dataframe\">\n",
       "  <thead>\n",
       "    <tr style=\"text-align: right;\">\n",
       "      <th></th>\n",
       "      <th>Id</th>\n",
       "      <th>MSSubClass</th>\n",
       "      <th>MSZoning</th>\n",
       "      <th>LotFrontage</th>\n",
       "      <th>LotArea</th>\n",
       "      <th>Street</th>\n",
       "      <th>Alley</th>\n",
       "      <th>LotShape</th>\n",
       "      <th>LandContour</th>\n",
       "      <th>Utilities</th>\n",
       "      <th>...</th>\n",
       "      <th>PoolArea</th>\n",
       "      <th>PoolQC</th>\n",
       "      <th>Fence</th>\n",
       "      <th>MiscFeature</th>\n",
       "      <th>MiscVal</th>\n",
       "      <th>MoSold</th>\n",
       "      <th>YrSold</th>\n",
       "      <th>SaleType</th>\n",
       "      <th>SaleCondition</th>\n",
       "      <th>SalePrice</th>\n",
       "    </tr>\n",
       "  </thead>\n",
       "  <tbody>\n",
       "    <tr>\n",
       "      <th>0</th>\n",
       "      <td>1</td>\n",
       "      <td>60</td>\n",
       "      <td>RL</td>\n",
       "      <td>65.0</td>\n",
       "      <td>8450</td>\n",
       "      <td>Pave</td>\n",
       "      <td>NaN</td>\n",
       "      <td>Reg</td>\n",
       "      <td>Lvl</td>\n",
       "      <td>AllPub</td>\n",
       "      <td>...</td>\n",
       "      <td>0</td>\n",
       "      <td>NaN</td>\n",
       "      <td>NaN</td>\n",
       "      <td>NaN</td>\n",
       "      <td>0</td>\n",
       "      <td>2</td>\n",
       "      <td>2008</td>\n",
       "      <td>WD</td>\n",
       "      <td>Normal</td>\n",
       "      <td>208500</td>\n",
       "    </tr>\n",
       "    <tr>\n",
       "      <th>1</th>\n",
       "      <td>2</td>\n",
       "      <td>20</td>\n",
       "      <td>RL</td>\n",
       "      <td>80.0</td>\n",
       "      <td>9600</td>\n",
       "      <td>Pave</td>\n",
       "      <td>NaN</td>\n",
       "      <td>Reg</td>\n",
       "      <td>Lvl</td>\n",
       "      <td>AllPub</td>\n",
       "      <td>...</td>\n",
       "      <td>0</td>\n",
       "      <td>NaN</td>\n",
       "      <td>NaN</td>\n",
       "      <td>NaN</td>\n",
       "      <td>0</td>\n",
       "      <td>5</td>\n",
       "      <td>2007</td>\n",
       "      <td>WD</td>\n",
       "      <td>Normal</td>\n",
       "      <td>181500</td>\n",
       "    </tr>\n",
       "    <tr>\n",
       "      <th>2</th>\n",
       "      <td>3</td>\n",
       "      <td>60</td>\n",
       "      <td>RL</td>\n",
       "      <td>68.0</td>\n",
       "      <td>11250</td>\n",
       "      <td>Pave</td>\n",
       "      <td>NaN</td>\n",
       "      <td>IR1</td>\n",
       "      <td>Lvl</td>\n",
       "      <td>AllPub</td>\n",
       "      <td>...</td>\n",
       "      <td>0</td>\n",
       "      <td>NaN</td>\n",
       "      <td>NaN</td>\n",
       "      <td>NaN</td>\n",
       "      <td>0</td>\n",
       "      <td>9</td>\n",
       "      <td>2008</td>\n",
       "      <td>WD</td>\n",
       "      <td>Normal</td>\n",
       "      <td>223500</td>\n",
       "    </tr>\n",
       "    <tr>\n",
       "      <th>3</th>\n",
       "      <td>4</td>\n",
       "      <td>70</td>\n",
       "      <td>RL</td>\n",
       "      <td>60.0</td>\n",
       "      <td>9550</td>\n",
       "      <td>Pave</td>\n",
       "      <td>NaN</td>\n",
       "      <td>IR1</td>\n",
       "      <td>Lvl</td>\n",
       "      <td>AllPub</td>\n",
       "      <td>...</td>\n",
       "      <td>0</td>\n",
       "      <td>NaN</td>\n",
       "      <td>NaN</td>\n",
       "      <td>NaN</td>\n",
       "      <td>0</td>\n",
       "      <td>2</td>\n",
       "      <td>2006</td>\n",
       "      <td>WD</td>\n",
       "      <td>Abnorml</td>\n",
       "      <td>140000</td>\n",
       "    </tr>\n",
       "    <tr>\n",
       "      <th>4</th>\n",
       "      <td>5</td>\n",
       "      <td>60</td>\n",
       "      <td>RL</td>\n",
       "      <td>84.0</td>\n",
       "      <td>14260</td>\n",
       "      <td>Pave</td>\n",
       "      <td>NaN</td>\n",
       "      <td>IR1</td>\n",
       "      <td>Lvl</td>\n",
       "      <td>AllPub</td>\n",
       "      <td>...</td>\n",
       "      <td>0</td>\n",
       "      <td>NaN</td>\n",
       "      <td>NaN</td>\n",
       "      <td>NaN</td>\n",
       "      <td>0</td>\n",
       "      <td>12</td>\n",
       "      <td>2008</td>\n",
       "      <td>WD</td>\n",
       "      <td>Normal</td>\n",
       "      <td>250000</td>\n",
       "    </tr>\n",
       "  </tbody>\n",
       "</table>\n",
       "<p>5 rows × 81 columns</p>\n",
       "</div>"
      ],
      "text/plain": [
       "   Id  MSSubClass MSZoning  LotFrontage  LotArea Street Alley LotShape  \\\n",
       "0   1          60       RL         65.0     8450   Pave   NaN      Reg   \n",
       "1   2          20       RL         80.0     9600   Pave   NaN      Reg   \n",
       "2   3          60       RL         68.0    11250   Pave   NaN      IR1   \n",
       "3   4          70       RL         60.0     9550   Pave   NaN      IR1   \n",
       "4   5          60       RL         84.0    14260   Pave   NaN      IR1   \n",
       "\n",
       "  LandContour Utilities    ...     PoolArea PoolQC Fence MiscFeature MiscVal  \\\n",
       "0         Lvl    AllPub    ...            0    NaN   NaN         NaN       0   \n",
       "1         Lvl    AllPub    ...            0    NaN   NaN         NaN       0   \n",
       "2         Lvl    AllPub    ...            0    NaN   NaN         NaN       0   \n",
       "3         Lvl    AllPub    ...            0    NaN   NaN         NaN       0   \n",
       "4         Lvl    AllPub    ...            0    NaN   NaN         NaN       0   \n",
       "\n",
       "  MoSold YrSold  SaleType  SaleCondition  SalePrice  \n",
       "0      2   2008        WD         Normal     208500  \n",
       "1      5   2007        WD         Normal     181500  \n",
       "2      9   2008        WD         Normal     223500  \n",
       "3      2   2006        WD        Abnorml     140000  \n",
       "4     12   2008        WD         Normal     250000  \n",
       "\n",
       "[5 rows x 81 columns]"
      ]
     },
     "execution_count": 5,
     "metadata": {},
     "output_type": "execute_result"
    }
   ],
   "source": [
    "df.head()"
   ]
  },
  {
   "cell_type": "code",
   "execution_count": 10,
   "metadata": {},
   "outputs": [
    {
     "data": {
      "text/plain": [
       "array(['Normal', 'Abnorml', 'Partial', 'AdjLand', 'Alloca', 'Family'],\n",
       "      dtype=object)"
      ]
     },
     "execution_count": 10,
     "metadata": {},
     "output_type": "execute_result"
    }
   ],
   "source": [
    "df.SaleCondition.unique()"
   ]
  },
  {
   "cell_type": "code",
   "execution_count": 20,
   "metadata": {},
   "outputs": [],
   "source": [
    "df['TotalSF'] = df['1stFlrSF'] + df['2ndFlrSF']"
   ]
  },
  {
   "cell_type": "code",
   "execution_count": 28,
   "metadata": {},
   "outputs": [
    {
     "data": {
      "application/vnd.plotly.v1+json": {
       "config": {
        "plotlyServerURL": "https://plot.ly"
       },
       "data": [
        {
         "hovertemplate": "Neighborhood=NoRidge<br>LotArea=%{x}<br>SalePrice=%{y}<extra></extra>",
         "legendgroup": "NoRidge",
         "marker": {
          "color": "#636efa",
          "symbol": "circle"
         },
         "mode": "markers",
         "name": "NoRidge",
         "orientation": "v",
         "showlegend": true,
         "type": "scatter",
         "x": [
          14260,
          16059,
          9950,
          15138,
          11764,
          9900,
          12011,
          12090,
          9200,
          12692,
          10208,
          11787,
          11000,
          13346,
          10437,
          46589,
          16770,
          21535,
          10542,
          10593,
          12257,
          9430,
          9920,
          12203,
          9452,
          14541,
          29959,
          12256,
          35760,
          10678,
          15623,
          12461,
          14303,
          10120,
          9572,
          14774,
          10186,
          14720,
          11400,
          16545,
          10944
         ],
         "xaxis": "x",
         "y": [
          250000,
          260000,
          290000,
          403000,
          290000,
          260000,
          280000,
          258000,
          315000,
          430000,
          265000,
          315750,
          248000,
          268000,
          350000,
          402000,
          221000,
          755000,
          341000,
          260400,
          290000,
          337000,
          269790,
          336000,
          348000,
          310000,
          248000,
          325000,
          625000,
          285000,
          745000,
          262000,
          301500,
          290000,
          302000,
          333168,
          190000,
          410000,
          466500,
          340000,
          271000
         ],
         "yaxis": "y"
        },
        {
         "hovertemplate": "Neighborhood=Edwards<br>LotArea=%{x}<br>SalePrice=%{y}<extra></extra>",
         "legendgroup": "Edwards",
         "marker": {
          "color": "#EF553B",
          "symbol": "circle"
         },
         "mode": "markers",
         "name": "Edwards",
         "orientation": "v",
         "showlegend": true,
         "type": "scatter",
         "x": [
          6040,
          10921,
          10625,
          9525,
          8536,
          2522,
          9600,
          10106,
          12615,
          9060,
          2522,
          8546,
          5604,
          10420,
          8741,
          7917,
          11409,
          12342,
          9084,
          7301,
          10020,
          8410,
          7200,
          8405,
          9571,
          9571,
          8160,
          12354,
          12108,
          9855,
          3675,
          9170,
          40094,
          9098,
          7000,
          8777,
          13907,
          21780,
          11841,
          7800,
          8248,
          8777,
          10452,
          9084,
          9937,
          10012,
          6629,
          6420,
          8172,
          13286,
          10800,
          8405,
          8877,
          7819,
          8248,
          11767,
          7024,
          16466,
          17140,
          8777,
          7711,
          9400,
          9450,
          10880,
          10206,
          9825,
          7024,
          11500,
          13680,
          11100,
          8562,
          7585,
          7950,
          2522,
          8926,
          9405,
          12180,
          17755,
          13728,
          8335,
          9738,
          9340,
          6931,
          4060,
          11512,
          8172,
          3675,
          63887,
          3363,
          8190,
          10215,
          4270,
          8877,
          10998,
          8212,
          9060,
          19690,
          11767,
          3675,
          9937
         ],
         "xaxis": "x",
         "y": [
          82000,
          94750,
          83000,
          136900,
          155000,
          130000,
          79000,
          127500,
          243000,
          120000,
          130000,
          140000,
          98000,
          186000,
          113000,
          148000,
          131000,
          82500,
          95000,
          198500,
          61000,
          81000,
          125000,
          119000,
          129000,
          60000,
          126000,
          110000,
          118000,
          127500,
          148000,
          140000,
          184750,
          86000,
          107500,
          108000,
          108000,
          185000,
          118500,
          225000,
          67000,
          85000,
          155000,
          108000,
          167000,
          137500,
          103600,
          123500,
          135000,
          320000,
          179000,
          98000,
          102000,
          107000,
          116000,
          130500,
          157000,
          135500,
          135000,
          145900,
          150000,
          127500,
          110000,
          125000,
          82000,
          100000,
          176000,
          84000,
          139600,
          84900,
          144500,
          91500,
          159500,
          137500,
          112000,
          118000,
          80000,
          149900,
          235000,
          93000,
          104900,
          113000,
          165400,
          99900,
          177000,
          115000,
          140000,
          160000,
          130000,
          119000,
          111000,
          79000,
          100000,
          117000,
          58500,
          105000,
          274970,
          112000,
          145000,
          147500
         ],
         "yaxis": "y"
        }
       ],
       "layout": {
        "legend": {
         "title": {
          "text": "Neighborhood"
         },
         "tracegroupgap": 0
        },
        "margin": {
         "t": 60
        },
        "template": {
         "data": {
          "bar": [
           {
            "error_x": {
             "color": "#2a3f5f"
            },
            "error_y": {
             "color": "#2a3f5f"
            },
            "marker": {
             "line": {
              "color": "#E5ECF6",
              "width": 0.5
             }
            },
            "type": "bar"
           }
          ],
          "barpolar": [
           {
            "marker": {
             "line": {
              "color": "#E5ECF6",
              "width": 0.5
             }
            },
            "type": "barpolar"
           }
          ],
          "carpet": [
           {
            "aaxis": {
             "endlinecolor": "#2a3f5f",
             "gridcolor": "white",
             "linecolor": "white",
             "minorgridcolor": "white",
             "startlinecolor": "#2a3f5f"
            },
            "baxis": {
             "endlinecolor": "#2a3f5f",
             "gridcolor": "white",
             "linecolor": "white",
             "minorgridcolor": "white",
             "startlinecolor": "#2a3f5f"
            },
            "type": "carpet"
           }
          ],
          "choropleth": [
           {
            "colorbar": {
             "outlinewidth": 0,
             "ticks": ""
            },
            "type": "choropleth"
           }
          ],
          "contour": [
           {
            "colorbar": {
             "outlinewidth": 0,
             "ticks": ""
            },
            "colorscale": [
             [
              0,
              "#0d0887"
             ],
             [
              0.1111111111111111,
              "#46039f"
             ],
             [
              0.2222222222222222,
              "#7201a8"
             ],
             [
              0.3333333333333333,
              "#9c179e"
             ],
             [
              0.4444444444444444,
              "#bd3786"
             ],
             [
              0.5555555555555556,
              "#d8576b"
             ],
             [
              0.6666666666666666,
              "#ed7953"
             ],
             [
              0.7777777777777778,
              "#fb9f3a"
             ],
             [
              0.8888888888888888,
              "#fdca26"
             ],
             [
              1,
              "#f0f921"
             ]
            ],
            "type": "contour"
           }
          ],
          "contourcarpet": [
           {
            "colorbar": {
             "outlinewidth": 0,
             "ticks": ""
            },
            "type": "contourcarpet"
           }
          ],
          "heatmap": [
           {
            "colorbar": {
             "outlinewidth": 0,
             "ticks": ""
            },
            "colorscale": [
             [
              0,
              "#0d0887"
             ],
             [
              0.1111111111111111,
              "#46039f"
             ],
             [
              0.2222222222222222,
              "#7201a8"
             ],
             [
              0.3333333333333333,
              "#9c179e"
             ],
             [
              0.4444444444444444,
              "#bd3786"
             ],
             [
              0.5555555555555556,
              "#d8576b"
             ],
             [
              0.6666666666666666,
              "#ed7953"
             ],
             [
              0.7777777777777778,
              "#fb9f3a"
             ],
             [
              0.8888888888888888,
              "#fdca26"
             ],
             [
              1,
              "#f0f921"
             ]
            ],
            "type": "heatmap"
           }
          ],
          "heatmapgl": [
           {
            "colorbar": {
             "outlinewidth": 0,
             "ticks": ""
            },
            "colorscale": [
             [
              0,
              "#0d0887"
             ],
             [
              0.1111111111111111,
              "#46039f"
             ],
             [
              0.2222222222222222,
              "#7201a8"
             ],
             [
              0.3333333333333333,
              "#9c179e"
             ],
             [
              0.4444444444444444,
              "#bd3786"
             ],
             [
              0.5555555555555556,
              "#d8576b"
             ],
             [
              0.6666666666666666,
              "#ed7953"
             ],
             [
              0.7777777777777778,
              "#fb9f3a"
             ],
             [
              0.8888888888888888,
              "#fdca26"
             ],
             [
              1,
              "#f0f921"
             ]
            ],
            "type": "heatmapgl"
           }
          ],
          "histogram": [
           {
            "marker": {
             "colorbar": {
              "outlinewidth": 0,
              "ticks": ""
             }
            },
            "type": "histogram"
           }
          ],
          "histogram2d": [
           {
            "colorbar": {
             "outlinewidth": 0,
             "ticks": ""
            },
            "colorscale": [
             [
              0,
              "#0d0887"
             ],
             [
              0.1111111111111111,
              "#46039f"
             ],
             [
              0.2222222222222222,
              "#7201a8"
             ],
             [
              0.3333333333333333,
              "#9c179e"
             ],
             [
              0.4444444444444444,
              "#bd3786"
             ],
             [
              0.5555555555555556,
              "#d8576b"
             ],
             [
              0.6666666666666666,
              "#ed7953"
             ],
             [
              0.7777777777777778,
              "#fb9f3a"
             ],
             [
              0.8888888888888888,
              "#fdca26"
             ],
             [
              1,
              "#f0f921"
             ]
            ],
            "type": "histogram2d"
           }
          ],
          "histogram2dcontour": [
           {
            "colorbar": {
             "outlinewidth": 0,
             "ticks": ""
            },
            "colorscale": [
             [
              0,
              "#0d0887"
             ],
             [
              0.1111111111111111,
              "#46039f"
             ],
             [
              0.2222222222222222,
              "#7201a8"
             ],
             [
              0.3333333333333333,
              "#9c179e"
             ],
             [
              0.4444444444444444,
              "#bd3786"
             ],
             [
              0.5555555555555556,
              "#d8576b"
             ],
             [
              0.6666666666666666,
              "#ed7953"
             ],
             [
              0.7777777777777778,
              "#fb9f3a"
             ],
             [
              0.8888888888888888,
              "#fdca26"
             ],
             [
              1,
              "#f0f921"
             ]
            ],
            "type": "histogram2dcontour"
           }
          ],
          "mesh3d": [
           {
            "colorbar": {
             "outlinewidth": 0,
             "ticks": ""
            },
            "type": "mesh3d"
           }
          ],
          "parcoords": [
           {
            "line": {
             "colorbar": {
              "outlinewidth": 0,
              "ticks": ""
             }
            },
            "type": "parcoords"
           }
          ],
          "pie": [
           {
            "automargin": true,
            "type": "pie"
           }
          ],
          "scatter": [
           {
            "marker": {
             "colorbar": {
              "outlinewidth": 0,
              "ticks": ""
             }
            },
            "type": "scatter"
           }
          ],
          "scatter3d": [
           {
            "line": {
             "colorbar": {
              "outlinewidth": 0,
              "ticks": ""
             }
            },
            "marker": {
             "colorbar": {
              "outlinewidth": 0,
              "ticks": ""
             }
            },
            "type": "scatter3d"
           }
          ],
          "scattercarpet": [
           {
            "marker": {
             "colorbar": {
              "outlinewidth": 0,
              "ticks": ""
             }
            },
            "type": "scattercarpet"
           }
          ],
          "scattergeo": [
           {
            "marker": {
             "colorbar": {
              "outlinewidth": 0,
              "ticks": ""
             }
            },
            "type": "scattergeo"
           }
          ],
          "scattergl": [
           {
            "marker": {
             "colorbar": {
              "outlinewidth": 0,
              "ticks": ""
             }
            },
            "type": "scattergl"
           }
          ],
          "scattermapbox": [
           {
            "marker": {
             "colorbar": {
              "outlinewidth": 0,
              "ticks": ""
             }
            },
            "type": "scattermapbox"
           }
          ],
          "scatterpolar": [
           {
            "marker": {
             "colorbar": {
              "outlinewidth": 0,
              "ticks": ""
             }
            },
            "type": "scatterpolar"
           }
          ],
          "scatterpolargl": [
           {
            "marker": {
             "colorbar": {
              "outlinewidth": 0,
              "ticks": ""
             }
            },
            "type": "scatterpolargl"
           }
          ],
          "scatterternary": [
           {
            "marker": {
             "colorbar": {
              "outlinewidth": 0,
              "ticks": ""
             }
            },
            "type": "scatterternary"
           }
          ],
          "surface": [
           {
            "colorbar": {
             "outlinewidth": 0,
             "ticks": ""
            },
            "colorscale": [
             [
              0,
              "#0d0887"
             ],
             [
              0.1111111111111111,
              "#46039f"
             ],
             [
              0.2222222222222222,
              "#7201a8"
             ],
             [
              0.3333333333333333,
              "#9c179e"
             ],
             [
              0.4444444444444444,
              "#bd3786"
             ],
             [
              0.5555555555555556,
              "#d8576b"
             ],
             [
              0.6666666666666666,
              "#ed7953"
             ],
             [
              0.7777777777777778,
              "#fb9f3a"
             ],
             [
              0.8888888888888888,
              "#fdca26"
             ],
             [
              1,
              "#f0f921"
             ]
            ],
            "type": "surface"
           }
          ],
          "table": [
           {
            "cells": {
             "fill": {
              "color": "#EBF0F8"
             },
             "line": {
              "color": "white"
             }
            },
            "header": {
             "fill": {
              "color": "#C8D4E3"
             },
             "line": {
              "color": "white"
             }
            },
            "type": "table"
           }
          ]
         },
         "layout": {
          "annotationdefaults": {
           "arrowcolor": "#2a3f5f",
           "arrowhead": 0,
           "arrowwidth": 1
          },
          "autotypenumbers": "strict",
          "coloraxis": {
           "colorbar": {
            "outlinewidth": 0,
            "ticks": ""
           }
          },
          "colorscale": {
           "diverging": [
            [
             0,
             "#8e0152"
            ],
            [
             0.1,
             "#c51b7d"
            ],
            [
             0.2,
             "#de77ae"
            ],
            [
             0.3,
             "#f1b6da"
            ],
            [
             0.4,
             "#fde0ef"
            ],
            [
             0.5,
             "#f7f7f7"
            ],
            [
             0.6,
             "#e6f5d0"
            ],
            [
             0.7,
             "#b8e186"
            ],
            [
             0.8,
             "#7fbc41"
            ],
            [
             0.9,
             "#4d9221"
            ],
            [
             1,
             "#276419"
            ]
           ],
           "sequential": [
            [
             0,
             "#0d0887"
            ],
            [
             0.1111111111111111,
             "#46039f"
            ],
            [
             0.2222222222222222,
             "#7201a8"
            ],
            [
             0.3333333333333333,
             "#9c179e"
            ],
            [
             0.4444444444444444,
             "#bd3786"
            ],
            [
             0.5555555555555556,
             "#d8576b"
            ],
            [
             0.6666666666666666,
             "#ed7953"
            ],
            [
             0.7777777777777778,
             "#fb9f3a"
            ],
            [
             0.8888888888888888,
             "#fdca26"
            ],
            [
             1,
             "#f0f921"
            ]
           ],
           "sequentialminus": [
            [
             0,
             "#0d0887"
            ],
            [
             0.1111111111111111,
             "#46039f"
            ],
            [
             0.2222222222222222,
             "#7201a8"
            ],
            [
             0.3333333333333333,
             "#9c179e"
            ],
            [
             0.4444444444444444,
             "#bd3786"
            ],
            [
             0.5555555555555556,
             "#d8576b"
            ],
            [
             0.6666666666666666,
             "#ed7953"
            ],
            [
             0.7777777777777778,
             "#fb9f3a"
            ],
            [
             0.8888888888888888,
             "#fdca26"
            ],
            [
             1,
             "#f0f921"
            ]
           ]
          },
          "colorway": [
           "#636efa",
           "#EF553B",
           "#00cc96",
           "#ab63fa",
           "#FFA15A",
           "#19d3f3",
           "#FF6692",
           "#B6E880",
           "#FF97FF",
           "#FECB52"
          ],
          "font": {
           "color": "#2a3f5f"
          },
          "geo": {
           "bgcolor": "white",
           "lakecolor": "white",
           "landcolor": "#E5ECF6",
           "showlakes": true,
           "showland": true,
           "subunitcolor": "white"
          },
          "hoverlabel": {
           "align": "left"
          },
          "hovermode": "closest",
          "mapbox": {
           "style": "light"
          },
          "paper_bgcolor": "white",
          "plot_bgcolor": "#E5ECF6",
          "polar": {
           "angularaxis": {
            "gridcolor": "white",
            "linecolor": "white",
            "ticks": ""
           },
           "bgcolor": "#E5ECF6",
           "radialaxis": {
            "gridcolor": "white",
            "linecolor": "white",
            "ticks": ""
           }
          },
          "scene": {
           "xaxis": {
            "backgroundcolor": "#E5ECF6",
            "gridcolor": "white",
            "gridwidth": 2,
            "linecolor": "white",
            "showbackground": true,
            "ticks": "",
            "zerolinecolor": "white"
           },
           "yaxis": {
            "backgroundcolor": "#E5ECF6",
            "gridcolor": "white",
            "gridwidth": 2,
            "linecolor": "white",
            "showbackground": true,
            "ticks": "",
            "zerolinecolor": "white"
           },
           "zaxis": {
            "backgroundcolor": "#E5ECF6",
            "gridcolor": "white",
            "gridwidth": 2,
            "linecolor": "white",
            "showbackground": true,
            "ticks": "",
            "zerolinecolor": "white"
           }
          },
          "shapedefaults": {
           "line": {
            "color": "#2a3f5f"
           }
          },
          "ternary": {
           "aaxis": {
            "gridcolor": "white",
            "linecolor": "white",
            "ticks": ""
           },
           "baxis": {
            "gridcolor": "white",
            "linecolor": "white",
            "ticks": ""
           },
           "bgcolor": "#E5ECF6",
           "caxis": {
            "gridcolor": "white",
            "linecolor": "white",
            "ticks": ""
           }
          },
          "title": {
           "x": 0.05
          },
          "xaxis": {
           "automargin": true,
           "gridcolor": "white",
           "linecolor": "white",
           "ticks": "",
           "title": {
            "standoff": 15
           },
           "zerolinecolor": "white",
           "zerolinewidth": 2
          },
          "yaxis": {
           "automargin": true,
           "gridcolor": "white",
           "linecolor": "white",
           "ticks": "",
           "title": {
            "standoff": 15
           },
           "zerolinecolor": "white",
           "zerolinewidth": 2
          }
         }
        },
        "xaxis": {
         "anchor": "y",
         "domain": [
          0,
          1
         ],
         "title": {
          "text": "LotArea"
         }
        },
        "yaxis": {
         "anchor": "x",
         "domain": [
          0,
          1
         ],
         "title": {
          "text": "SalePrice"
         }
        }
       }
      },
      "text/html": [
       "<div>                            <div id=\"80099b83-611e-4ccc-beb1-7bf8ae113065\" class=\"plotly-graph-div\" style=\"height:525px; width:100%;\"></div>            <script type=\"text/javascript\">                require([\"plotly\"], function(Plotly) {                    window.PLOTLYENV=window.PLOTLYENV || {};                                    if (document.getElementById(\"80099b83-611e-4ccc-beb1-7bf8ae113065\")) {                    Plotly.newPlot(                        \"80099b83-611e-4ccc-beb1-7bf8ae113065\",                        [{\"hovertemplate\": \"Neighborhood=NoRidge<br>LotArea=%{x}<br>SalePrice=%{y}<extra></extra>\", \"legendgroup\": \"NoRidge\", \"marker\": {\"color\": \"#636efa\", \"symbol\": \"circle\"}, \"mode\": \"markers\", \"name\": \"NoRidge\", \"orientation\": \"v\", \"showlegend\": true, \"type\": \"scatter\", \"x\": [14260, 16059, 9950, 15138, 11764, 9900, 12011, 12090, 9200, 12692, 10208, 11787, 11000, 13346, 10437, 46589, 16770, 21535, 10542, 10593, 12257, 9430, 9920, 12203, 9452, 14541, 29959, 12256, 35760, 10678, 15623, 12461, 14303, 10120, 9572, 14774, 10186, 14720, 11400, 16545, 10944], \"xaxis\": \"x\", \"y\": [250000, 260000, 290000, 403000, 290000, 260000, 280000, 258000, 315000, 430000, 265000, 315750, 248000, 268000, 350000, 402000, 221000, 755000, 341000, 260400, 290000, 337000, 269790, 336000, 348000, 310000, 248000, 325000, 625000, 285000, 745000, 262000, 301500, 290000, 302000, 333168, 190000, 410000, 466500, 340000, 271000], \"yaxis\": \"y\"}, {\"hovertemplate\": \"Neighborhood=Edwards<br>LotArea=%{x}<br>SalePrice=%{y}<extra></extra>\", \"legendgroup\": \"Edwards\", \"marker\": {\"color\": \"#EF553B\", \"symbol\": \"circle\"}, \"mode\": \"markers\", \"name\": \"Edwards\", \"orientation\": \"v\", \"showlegend\": true, \"type\": \"scatter\", \"x\": [6040, 10921, 10625, 9525, 8536, 2522, 9600, 10106, 12615, 9060, 2522, 8546, 5604, 10420, 8741, 7917, 11409, 12342, 9084, 7301, 10020, 8410, 7200, 8405, 9571, 9571, 8160, 12354, 12108, 9855, 3675, 9170, 40094, 9098, 7000, 8777, 13907, 21780, 11841, 7800, 8248, 8777, 10452, 9084, 9937, 10012, 6629, 6420, 8172, 13286, 10800, 8405, 8877, 7819, 8248, 11767, 7024, 16466, 17140, 8777, 7711, 9400, 9450, 10880, 10206, 9825, 7024, 11500, 13680, 11100, 8562, 7585, 7950, 2522, 8926, 9405, 12180, 17755, 13728, 8335, 9738, 9340, 6931, 4060, 11512, 8172, 3675, 63887, 3363, 8190, 10215, 4270, 8877, 10998, 8212, 9060, 19690, 11767, 3675, 9937], \"xaxis\": \"x\", \"y\": [82000, 94750, 83000, 136900, 155000, 130000, 79000, 127500, 243000, 120000, 130000, 140000, 98000, 186000, 113000, 148000, 131000, 82500, 95000, 198500, 61000, 81000, 125000, 119000, 129000, 60000, 126000, 110000, 118000, 127500, 148000, 140000, 184750, 86000, 107500, 108000, 108000, 185000, 118500, 225000, 67000, 85000, 155000, 108000, 167000, 137500, 103600, 123500, 135000, 320000, 179000, 98000, 102000, 107000, 116000, 130500, 157000, 135500, 135000, 145900, 150000, 127500, 110000, 125000, 82000, 100000, 176000, 84000, 139600, 84900, 144500, 91500, 159500, 137500, 112000, 118000, 80000, 149900, 235000, 93000, 104900, 113000, 165400, 99900, 177000, 115000, 140000, 160000, 130000, 119000, 111000, 79000, 100000, 117000, 58500, 105000, 274970, 112000, 145000, 147500], \"yaxis\": \"y\"}],                        {\"legend\": {\"title\": {\"text\": \"Neighborhood\"}, \"tracegroupgap\": 0}, \"margin\": {\"t\": 60}, \"template\": {\"data\": {\"bar\": [{\"error_x\": {\"color\": \"#2a3f5f\"}, \"error_y\": {\"color\": \"#2a3f5f\"}, \"marker\": {\"line\": {\"color\": \"#E5ECF6\", \"width\": 0.5}}, \"type\": \"bar\"}], \"barpolar\": [{\"marker\": {\"line\": {\"color\": \"#E5ECF6\", \"width\": 0.5}}, \"type\": \"barpolar\"}], \"carpet\": [{\"aaxis\": {\"endlinecolor\": \"#2a3f5f\", \"gridcolor\": \"white\", \"linecolor\": \"white\", \"minorgridcolor\": \"white\", \"startlinecolor\": \"#2a3f5f\"}, \"baxis\": {\"endlinecolor\": \"#2a3f5f\", \"gridcolor\": \"white\", \"linecolor\": \"white\", \"minorgridcolor\": \"white\", \"startlinecolor\": \"#2a3f5f\"}, \"type\": \"carpet\"}], \"choropleth\": [{\"colorbar\": {\"outlinewidth\": 0, \"ticks\": \"\"}, \"type\": \"choropleth\"}], \"contour\": [{\"colorbar\": {\"outlinewidth\": 0, \"ticks\": \"\"}, \"colorscale\": [[0.0, \"#0d0887\"], [0.1111111111111111, \"#46039f\"], [0.2222222222222222, \"#7201a8\"], [0.3333333333333333, \"#9c179e\"], [0.4444444444444444, \"#bd3786\"], [0.5555555555555556, \"#d8576b\"], [0.6666666666666666, \"#ed7953\"], [0.7777777777777778, \"#fb9f3a\"], [0.8888888888888888, \"#fdca26\"], [1.0, \"#f0f921\"]], \"type\": \"contour\"}], \"contourcarpet\": [{\"colorbar\": {\"outlinewidth\": 0, \"ticks\": \"\"}, \"type\": \"contourcarpet\"}], \"heatmap\": [{\"colorbar\": {\"outlinewidth\": 0, \"ticks\": \"\"}, \"colorscale\": [[0.0, \"#0d0887\"], [0.1111111111111111, \"#46039f\"], [0.2222222222222222, \"#7201a8\"], [0.3333333333333333, \"#9c179e\"], [0.4444444444444444, \"#bd3786\"], [0.5555555555555556, \"#d8576b\"], [0.6666666666666666, \"#ed7953\"], [0.7777777777777778, \"#fb9f3a\"], [0.8888888888888888, \"#fdca26\"], [1.0, \"#f0f921\"]], \"type\": \"heatmap\"}], \"heatmapgl\": [{\"colorbar\": {\"outlinewidth\": 0, \"ticks\": \"\"}, \"colorscale\": [[0.0, \"#0d0887\"], [0.1111111111111111, \"#46039f\"], [0.2222222222222222, \"#7201a8\"], [0.3333333333333333, \"#9c179e\"], [0.4444444444444444, \"#bd3786\"], [0.5555555555555556, \"#d8576b\"], [0.6666666666666666, \"#ed7953\"], [0.7777777777777778, \"#fb9f3a\"], [0.8888888888888888, \"#fdca26\"], [1.0, \"#f0f921\"]], \"type\": \"heatmapgl\"}], \"histogram\": [{\"marker\": {\"colorbar\": {\"outlinewidth\": 0, \"ticks\": \"\"}}, \"type\": \"histogram\"}], \"histogram2d\": [{\"colorbar\": {\"outlinewidth\": 0, \"ticks\": \"\"}, \"colorscale\": [[0.0, \"#0d0887\"], [0.1111111111111111, \"#46039f\"], [0.2222222222222222, \"#7201a8\"], [0.3333333333333333, \"#9c179e\"], [0.4444444444444444, \"#bd3786\"], [0.5555555555555556, \"#d8576b\"], [0.6666666666666666, \"#ed7953\"], [0.7777777777777778, \"#fb9f3a\"], [0.8888888888888888, \"#fdca26\"], [1.0, \"#f0f921\"]], \"type\": \"histogram2d\"}], \"histogram2dcontour\": [{\"colorbar\": {\"outlinewidth\": 0, \"ticks\": \"\"}, \"colorscale\": [[0.0, \"#0d0887\"], [0.1111111111111111, \"#46039f\"], [0.2222222222222222, \"#7201a8\"], [0.3333333333333333, \"#9c179e\"], [0.4444444444444444, \"#bd3786\"], [0.5555555555555556, \"#d8576b\"], [0.6666666666666666, \"#ed7953\"], [0.7777777777777778, \"#fb9f3a\"], [0.8888888888888888, \"#fdca26\"], [1.0, \"#f0f921\"]], \"type\": \"histogram2dcontour\"}], \"mesh3d\": [{\"colorbar\": {\"outlinewidth\": 0, \"ticks\": \"\"}, \"type\": \"mesh3d\"}], \"parcoords\": [{\"line\": {\"colorbar\": {\"outlinewidth\": 0, \"ticks\": \"\"}}, \"type\": \"parcoords\"}], \"pie\": [{\"automargin\": true, \"type\": \"pie\"}], \"scatter\": [{\"marker\": {\"colorbar\": {\"outlinewidth\": 0, \"ticks\": \"\"}}, \"type\": \"scatter\"}], \"scatter3d\": [{\"line\": {\"colorbar\": {\"outlinewidth\": 0, \"ticks\": \"\"}}, \"marker\": {\"colorbar\": {\"outlinewidth\": 0, \"ticks\": \"\"}}, \"type\": \"scatter3d\"}], \"scattercarpet\": [{\"marker\": {\"colorbar\": {\"outlinewidth\": 0, \"ticks\": \"\"}}, \"type\": \"scattercarpet\"}], \"scattergeo\": [{\"marker\": {\"colorbar\": {\"outlinewidth\": 0, \"ticks\": \"\"}}, \"type\": \"scattergeo\"}], \"scattergl\": [{\"marker\": {\"colorbar\": {\"outlinewidth\": 0, \"ticks\": \"\"}}, \"type\": \"scattergl\"}], \"scattermapbox\": [{\"marker\": {\"colorbar\": {\"outlinewidth\": 0, \"ticks\": \"\"}}, \"type\": \"scattermapbox\"}], \"scatterpolar\": [{\"marker\": {\"colorbar\": {\"outlinewidth\": 0, \"ticks\": \"\"}}, \"type\": \"scatterpolar\"}], \"scatterpolargl\": [{\"marker\": {\"colorbar\": {\"outlinewidth\": 0, \"ticks\": \"\"}}, \"type\": \"scatterpolargl\"}], \"scatterternary\": [{\"marker\": {\"colorbar\": {\"outlinewidth\": 0, \"ticks\": \"\"}}, \"type\": \"scatterternary\"}], \"surface\": [{\"colorbar\": {\"outlinewidth\": 0, \"ticks\": \"\"}, \"colorscale\": [[0.0, \"#0d0887\"], [0.1111111111111111, \"#46039f\"], [0.2222222222222222, \"#7201a8\"], [0.3333333333333333, \"#9c179e\"], [0.4444444444444444, \"#bd3786\"], [0.5555555555555556, \"#d8576b\"], [0.6666666666666666, \"#ed7953\"], [0.7777777777777778, \"#fb9f3a\"], [0.8888888888888888, \"#fdca26\"], [1.0, \"#f0f921\"]], \"type\": \"surface\"}], \"table\": [{\"cells\": {\"fill\": {\"color\": \"#EBF0F8\"}, \"line\": {\"color\": \"white\"}}, \"header\": {\"fill\": {\"color\": \"#C8D4E3\"}, \"line\": {\"color\": \"white\"}}, \"type\": \"table\"}]}, \"layout\": {\"annotationdefaults\": {\"arrowcolor\": \"#2a3f5f\", \"arrowhead\": 0, \"arrowwidth\": 1}, \"autotypenumbers\": \"strict\", \"coloraxis\": {\"colorbar\": {\"outlinewidth\": 0, \"ticks\": \"\"}}, \"colorscale\": {\"diverging\": [[0, \"#8e0152\"], [0.1, \"#c51b7d\"], [0.2, \"#de77ae\"], [0.3, \"#f1b6da\"], [0.4, \"#fde0ef\"], [0.5, \"#f7f7f7\"], [0.6, \"#e6f5d0\"], [0.7, \"#b8e186\"], [0.8, \"#7fbc41\"], [0.9, \"#4d9221\"], [1, \"#276419\"]], \"sequential\": [[0.0, \"#0d0887\"], [0.1111111111111111, \"#46039f\"], [0.2222222222222222, \"#7201a8\"], [0.3333333333333333, \"#9c179e\"], [0.4444444444444444, \"#bd3786\"], [0.5555555555555556, \"#d8576b\"], [0.6666666666666666, \"#ed7953\"], [0.7777777777777778, \"#fb9f3a\"], [0.8888888888888888, \"#fdca26\"], [1.0, \"#f0f921\"]], \"sequentialminus\": [[0.0, \"#0d0887\"], [0.1111111111111111, \"#46039f\"], [0.2222222222222222, \"#7201a8\"], [0.3333333333333333, \"#9c179e\"], [0.4444444444444444, \"#bd3786\"], [0.5555555555555556, \"#d8576b\"], [0.6666666666666666, \"#ed7953\"], [0.7777777777777778, \"#fb9f3a\"], [0.8888888888888888, \"#fdca26\"], [1.0, \"#f0f921\"]]}, \"colorway\": [\"#636efa\", \"#EF553B\", \"#00cc96\", \"#ab63fa\", \"#FFA15A\", \"#19d3f3\", \"#FF6692\", \"#B6E880\", \"#FF97FF\", \"#FECB52\"], \"font\": {\"color\": \"#2a3f5f\"}, \"geo\": {\"bgcolor\": \"white\", \"lakecolor\": \"white\", \"landcolor\": \"#E5ECF6\", \"showlakes\": true, \"showland\": true, \"subunitcolor\": \"white\"}, \"hoverlabel\": {\"align\": \"left\"}, \"hovermode\": \"closest\", \"mapbox\": {\"style\": \"light\"}, \"paper_bgcolor\": \"white\", \"plot_bgcolor\": \"#E5ECF6\", \"polar\": {\"angularaxis\": {\"gridcolor\": \"white\", \"linecolor\": \"white\", \"ticks\": \"\"}, \"bgcolor\": \"#E5ECF6\", \"radialaxis\": {\"gridcolor\": \"white\", \"linecolor\": \"white\", \"ticks\": \"\"}}, \"scene\": {\"xaxis\": {\"backgroundcolor\": \"#E5ECF6\", \"gridcolor\": \"white\", \"gridwidth\": 2, \"linecolor\": \"white\", \"showbackground\": true, \"ticks\": \"\", \"zerolinecolor\": \"white\"}, \"yaxis\": {\"backgroundcolor\": \"#E5ECF6\", \"gridcolor\": \"white\", \"gridwidth\": 2, \"linecolor\": \"white\", \"showbackground\": true, \"ticks\": \"\", \"zerolinecolor\": \"white\"}, \"zaxis\": {\"backgroundcolor\": \"#E5ECF6\", \"gridcolor\": \"white\", \"gridwidth\": 2, \"linecolor\": \"white\", \"showbackground\": true, \"ticks\": \"\", \"zerolinecolor\": \"white\"}}, \"shapedefaults\": {\"line\": {\"color\": \"#2a3f5f\"}}, \"ternary\": {\"aaxis\": {\"gridcolor\": \"white\", \"linecolor\": \"white\", \"ticks\": \"\"}, \"baxis\": {\"gridcolor\": \"white\", \"linecolor\": \"white\", \"ticks\": \"\"}, \"bgcolor\": \"#E5ECF6\", \"caxis\": {\"gridcolor\": \"white\", \"linecolor\": \"white\", \"ticks\": \"\"}}, \"title\": {\"x\": 0.05}, \"xaxis\": {\"automargin\": true, \"gridcolor\": \"white\", \"linecolor\": \"white\", \"ticks\": \"\", \"title\": {\"standoff\": 15}, \"zerolinecolor\": \"white\", \"zerolinewidth\": 2}, \"yaxis\": {\"automargin\": true, \"gridcolor\": \"white\", \"linecolor\": \"white\", \"ticks\": \"\", \"title\": {\"standoff\": 15}, \"zerolinecolor\": \"white\", \"zerolinewidth\": 2}}}, \"xaxis\": {\"anchor\": \"y\", \"domain\": [0.0, 1.0], \"title\": {\"text\": \"LotArea\"}}, \"yaxis\": {\"anchor\": \"x\", \"domain\": [0.0, 1.0], \"title\": {\"text\": \"SalePrice\"}}},                        {\"responsive\": true}                    ).then(function(){\n",
       "                            \n",
       "var gd = document.getElementById('80099b83-611e-4ccc-beb1-7bf8ae113065');\n",
       "var x = new MutationObserver(function (mutations, observer) {{\n",
       "        var display = window.getComputedStyle(gd).display;\n",
       "        if (!display || display === 'none') {{\n",
       "            console.log([gd, 'removed!']);\n",
       "            Plotly.purge(gd);\n",
       "            observer.disconnect();\n",
       "        }}\n",
       "}});\n",
       "\n",
       "// Listen for the removal of the full notebook cells\n",
       "var notebookContainer = gd.closest('#notebook-container');\n",
       "if (notebookContainer) {{\n",
       "    x.observe(notebookContainer, {childList: true});\n",
       "}}\n",
       "\n",
       "// Listen for the clearing of the current output cell\n",
       "var outputEl = gd.closest('.output');\n",
       "if (outputEl) {{\n",
       "    x.observe(outputEl, {childList: true});\n",
       "}}\n",
       "\n",
       "                        })                };                });            </script>        </div>"
      ]
     },
     "metadata": {},
     "output_type": "display_data"
    }
   ],
   "source": [
    "p = px.scatter(df[((df['Neighborhood'] == 'Edwards')| (df['Neighborhood'] == 'NoRidge'))], x = 'LotArea', y = 'SalePrice', color = 'Neighborhood')\n",
    "p.show()"
   ]
  },
  {
   "cell_type": "code",
   "execution_count": 60,
   "metadata": {},
   "outputs": [
    {
     "data": {
      "text/html": [
       "<div>\n",
       "<style scoped>\n",
       "    .dataframe tbody tr th:only-of-type {\n",
       "        vertical-align: middle;\n",
       "    }\n",
       "\n",
       "    .dataframe tbody tr th {\n",
       "        vertical-align: top;\n",
       "    }\n",
       "\n",
       "    .dataframe thead th {\n",
       "        text-align: right;\n",
       "    }\n",
       "</style>\n",
       "<table border=\"1\" class=\"dataframe\">\n",
       "  <thead>\n",
       "    <tr style=\"text-align: right;\">\n",
       "      <th></th>\n",
       "      <th>MSSubClass</th>\n",
       "      <th>MSZoning</th>\n",
       "      <th>LotFrontage</th>\n",
       "      <th>LotArea</th>\n",
       "      <th>Street</th>\n",
       "      <th>Alley</th>\n",
       "      <th>LotShape</th>\n",
       "      <th>LandContour</th>\n",
       "      <th>Utilities</th>\n",
       "      <th>LotConfig</th>\n",
       "      <th>LandSlope</th>\n",
       "      <th>Neighborhood</th>\n",
       "      <th>Condition1</th>\n",
       "      <th>Condition2</th>\n",
       "      <th>BldgType</th>\n",
       "      <th>HouseStyle</th>\n",
       "      <th>OverallQual</th>\n",
       "      <th>OverallCond</th>\n",
       "      <th>YearBuilt</th>\n",
       "    </tr>\n",
       "  </thead>\n",
       "  <tbody>\n",
       "    <tr>\n",
       "      <th>523</th>\n",
       "      <td>60</td>\n",
       "      <td>RL</td>\n",
       "      <td>130.0</td>\n",
       "      <td>40094</td>\n",
       "      <td>Pave</td>\n",
       "      <td>NaN</td>\n",
       "      <td>IR1</td>\n",
       "      <td>Bnk</td>\n",
       "      <td>AllPub</td>\n",
       "      <td>Inside</td>\n",
       "      <td>Gtl</td>\n",
       "      <td>Edwards</td>\n",
       "      <td>PosN</td>\n",
       "      <td>PosN</td>\n",
       "      <td>1Fam</td>\n",
       "      <td>2Story</td>\n",
       "      <td>10</td>\n",
       "      <td>5</td>\n",
       "      <td>2007</td>\n",
       "    </tr>\n",
       "    <tr>\n",
       "      <th>1298</th>\n",
       "      <td>60</td>\n",
       "      <td>RL</td>\n",
       "      <td>313.0</td>\n",
       "      <td>63887</td>\n",
       "      <td>Pave</td>\n",
       "      <td>NaN</td>\n",
       "      <td>IR3</td>\n",
       "      <td>Bnk</td>\n",
       "      <td>AllPub</td>\n",
       "      <td>Corner</td>\n",
       "      <td>Gtl</td>\n",
       "      <td>Edwards</td>\n",
       "      <td>Feedr</td>\n",
       "      <td>Norm</td>\n",
       "      <td>1Fam</td>\n",
       "      <td>2Story</td>\n",
       "      <td>10</td>\n",
       "      <td>5</td>\n",
       "      <td>2008</td>\n",
       "    </tr>\n",
       "  </tbody>\n",
       "</table>\n",
       "</div>"
      ],
      "text/plain": [
       "      MSSubClass MSZoning  LotFrontage  LotArea Street Alley LotShape  \\\n",
       "523           60       RL        130.0    40094   Pave   NaN      IR1   \n",
       "1298          60       RL        313.0    63887   Pave   NaN      IR3   \n",
       "\n",
       "     LandContour Utilities LotConfig LandSlope Neighborhood Condition1  \\\n",
       "523          Bnk    AllPub    Inside       Gtl      Edwards       PosN   \n",
       "1298         Bnk    AllPub    Corner       Gtl      Edwards      Feedr   \n",
       "\n",
       "     Condition2 BldgType HouseStyle  OverallQual  OverallCond  YearBuilt  \n",
       "523        PosN     1Fam     2Story           10            5       2007  \n",
       "1298       Norm     1Fam     2Story           10            5       2008  "
      ]
     },
     "execution_count": 60,
     "metadata": {},
     "output_type": "execute_result"
    }
   ],
   "source": [
    "df[((df['Neighborhood'] == 'Edwards') & (df['TotalSF'] > 4000))].iloc[:2, 1:20]"
   ]
  },
  {
   "cell_type": "code",
   "execution_count": 62,
   "metadata": {},
   "outputs": [
    {
     "data": {
      "text/html": [
       "<div>\n",
       "<style scoped>\n",
       "    .dataframe tbody tr th:only-of-type {\n",
       "        vertical-align: middle;\n",
       "    }\n",
       "\n",
       "    .dataframe tbody tr th {\n",
       "        vertical-align: top;\n",
       "    }\n",
       "\n",
       "    .dataframe thead th {\n",
       "        text-align: right;\n",
       "    }\n",
       "</style>\n",
       "<table border=\"1\" class=\"dataframe\">\n",
       "  <thead>\n",
       "    <tr style=\"text-align: right;\">\n",
       "      <th></th>\n",
       "      <th>CentralAir</th>\n",
       "      <th>Electrical</th>\n",
       "      <th>1stFlrSF</th>\n",
       "      <th>2ndFlrSF</th>\n",
       "      <th>LowQualFinSF</th>\n",
       "      <th>GrLivArea</th>\n",
       "      <th>BsmtFullBath</th>\n",
       "      <th>BsmtHalfBath</th>\n",
       "      <th>FullBath</th>\n",
       "      <th>HalfBath</th>\n",
       "      <th>BedroomAbvGr</th>\n",
       "      <th>KitchenAbvGr</th>\n",
       "      <th>KitchenQual</th>\n",
       "      <th>TotRmsAbvGrd</th>\n",
       "      <th>Functional</th>\n",
       "      <th>Fireplaces</th>\n",
       "      <th>FireplaceQu</th>\n",
       "      <th>GarageType</th>\n",
       "      <th>GarageYrBlt</th>\n",
       "    </tr>\n",
       "  </thead>\n",
       "  <tbody>\n",
       "    <tr>\n",
       "      <th>523</th>\n",
       "      <td>Y</td>\n",
       "      <td>SBrkr</td>\n",
       "      <td>3138</td>\n",
       "      <td>1538</td>\n",
       "      <td>0</td>\n",
       "      <td>4676</td>\n",
       "      <td>1</td>\n",
       "      <td>0</td>\n",
       "      <td>3</td>\n",
       "      <td>1</td>\n",
       "      <td>3</td>\n",
       "      <td>1</td>\n",
       "      <td>Ex</td>\n",
       "      <td>11</td>\n",
       "      <td>Typ</td>\n",
       "      <td>1</td>\n",
       "      <td>Gd</td>\n",
       "      <td>BuiltIn</td>\n",
       "      <td>2007.0</td>\n",
       "    </tr>\n",
       "    <tr>\n",
       "      <th>1298</th>\n",
       "      <td>Y</td>\n",
       "      <td>SBrkr</td>\n",
       "      <td>4692</td>\n",
       "      <td>950</td>\n",
       "      <td>0</td>\n",
       "      <td>5642</td>\n",
       "      <td>2</td>\n",
       "      <td>0</td>\n",
       "      <td>2</td>\n",
       "      <td>1</td>\n",
       "      <td>3</td>\n",
       "      <td>1</td>\n",
       "      <td>Ex</td>\n",
       "      <td>12</td>\n",
       "      <td>Typ</td>\n",
       "      <td>3</td>\n",
       "      <td>Gd</td>\n",
       "      <td>Attchd</td>\n",
       "      <td>2008.0</td>\n",
       "    </tr>\n",
       "  </tbody>\n",
       "</table>\n",
       "</div>"
      ],
      "text/plain": [
       "     CentralAir Electrical  1stFlrSF  2ndFlrSF  LowQualFinSF  GrLivArea  \\\n",
       "523           Y      SBrkr      3138      1538             0       4676   \n",
       "1298          Y      SBrkr      4692       950             0       5642   \n",
       "\n",
       "      BsmtFullBath  BsmtHalfBath  FullBath  HalfBath  BedroomAbvGr  \\\n",
       "523              1             0         3         1             3   \n",
       "1298             2             0         2         1             3   \n",
       "\n",
       "      KitchenAbvGr KitchenQual  TotRmsAbvGrd Functional  Fireplaces  \\\n",
       "523              1          Ex            11        Typ           1   \n",
       "1298             1          Ex            12        Typ           3   \n",
       "\n",
       "     FireplaceQu GarageType  GarageYrBlt  \n",
       "523           Gd    BuiltIn       2007.0  \n",
       "1298          Gd     Attchd       2008.0  "
      ]
     },
     "execution_count": 62,
     "metadata": {},
     "output_type": "execute_result"
    }
   ],
   "source": [
    "df[((df['Neighborhood'] == 'Edwards') & (df['TotalSF'] > 4000))].iloc[:2, 41:60]"
   ]
  },
  {
   "cell_type": "code",
   "execution_count": 64,
   "metadata": {},
   "outputs": [
    {
     "data": {
      "application/vnd.plotly.v1+json": {
       "config": {
        "plotlyServerURL": "https://plot.ly"
       },
       "data": [
        {
         "hovertemplate": "Neighborhood=CollgCr<br>BedroomAbvGr=%{x}<br>SalePrice=%{y}<extra></extra>",
         "legendgroup": "CollgCr",
         "marker": {
          "color": "#636efa",
          "symbol": "circle"
         },
         "mode": "markers",
         "name": "CollgCr",
         "showlegend": true,
         "type": "scattergl",
         "x": [
          3,
          3,
          3,
          3,
          3,
          3,
          3,
          3,
          2,
          3,
          3,
          3,
          3,
          3,
          3,
          4,
          3,
          3,
          3,
          3,
          3,
          3,
          3,
          3,
          1,
          3,
          3,
          3,
          2,
          3,
          3,
          3,
          3,
          3,
          3,
          3,
          4,
          3,
          3,
          3,
          3,
          3,
          4,
          2,
          3,
          3,
          2,
          3,
          2,
          3,
          4,
          3,
          3,
          3,
          3,
          3,
          3,
          3,
          1,
          3,
          3,
          3,
          3,
          3,
          2,
          3,
          3,
          1,
          3,
          3,
          1,
          2,
          3,
          3,
          3,
          3,
          3,
          3,
          3,
          3,
          1,
          3,
          3,
          3,
          3,
          3,
          1,
          3,
          3,
          3,
          3,
          3,
          3,
          3,
          3,
          2,
          3,
          2,
          4,
          3,
          2,
          3,
          3,
          2,
          3,
          3,
          3,
          3,
          3,
          3,
          2,
          1,
          3,
          3,
          3,
          3,
          4,
          3,
          3,
          3,
          3,
          3,
          3,
          4,
          3,
          3,
          3,
          3,
          3,
          3,
          3,
          3,
          3,
          3,
          3,
          3,
          3,
          3,
          3,
          1,
          3,
          3,
          3,
          2,
          2,
          3,
          1,
          1,
          3,
          3
         ],
         "xaxis": "x",
         "y": [
          208500,
          223500,
          279500,
          230000,
          179900,
          145000,
          130250,
          196500,
          124900,
          219500,
          226000,
          123600,
          204750,
          214000,
          198900,
          383970,
          163990,
          230000,
          231500,
          260000,
          204000,
          122000,
          192000,
          127000,
          149000,
          156000,
          161750,
          210000,
          204900,
          128200,
          185500,
          180000,
          220000,
          231500,
          276000,
          233230,
          267000,
          205000,
          149900,
          305900,
          214000,
          177500,
          219500,
          148000,
          213500,
          191000,
          123000,
          164990,
          195400,
          212000,
          210000,
          124000,
          208900,
          297000,
          211000,
          188000,
          272000,
          185900,
          140000,
          110000,
          221000,
          152000,
          313000,
          261500,
          191000,
          173500,
          285000,
          141000,
          213000,
          128500,
          143000,
          194500,
          222500,
          190000,
          217000,
          212000,
          216837,
          221500,
          187100,
          189000,
          144500,
          224900,
          183000,
          237000,
          144000,
          133500,
          131500,
          147000,
          200500,
          136500,
          143500,
          236500,
          190000,
          239799,
          192500,
          133900,
          185000,
          239000,
          255900,
          173900,
          206000,
          149900,
          203000,
          194000,
          112500,
          230000,
          287000,
          145000,
          200141,
          255000,
          194000,
          155900,
          126000,
          192000,
          176432,
          212900,
          424870,
          245350,
          195000,
          178000,
          197900,
          213000,
          200000,
          195000,
          224900,
          237000,
          227000,
          150500,
          138000,
          203000,
          295493,
          275000,
          132500,
          200000,
          128500,
          228500,
          155835,
          235000,
          193000,
          144000,
          232000,
          274300,
          235000,
          193879,
          133000,
          230000,
          136500,
          149300,
          179600,
          240000
         ],
         "yaxis": "y"
        },
        {
         "hovertemplate": "Neighborhood=Veenker<br>BedroomAbvGr=%{x}<br>SalePrice=%{y}<extra></extra>",
         "legendgroup": "Veenker",
         "marker": {
          "color": "#EF553B",
          "symbol": "circle"
         },
         "mode": "markers",
         "name": "Veenker",
         "showlegend": true,
         "type": "scattergl",
         "x": [
          3,
          0,
          3,
          1,
          1,
          3,
          2,
          3,
          3,
          2,
          3
         ],
         "xaxis": "x",
         "y": [
          181500,
          385000,
          162500,
          324000,
          245500,
          165000,
          270000,
          187000,
          218000,
          194000,
          294000
         ],
         "yaxis": "y"
        },
        {
         "hovertemplate": "Neighborhood=Crawfor<br>BedroomAbvGr=%{x}<br>SalePrice=%{y}<extra></extra>",
         "legendgroup": "Crawfor",
         "marker": {
          "color": "#00cc96",
          "symbol": "circle"
         },
         "mode": "markers",
         "name": "Crawfor",
         "showlegend": true,
         "type": "scattergl",
         "x": [
          3,
          2,
          3,
          3,
          4,
          3,
          3,
          2,
          3,
          2,
          4,
          4,
          2,
          3,
          1,
          2,
          3,
          4,
          3,
          4,
          3,
          2,
          3,
          3,
          4,
          3,
          3,
          4,
          4,
          2,
          3,
          2,
          3,
          3,
          3,
          2,
          3,
          4,
          3,
          2,
          4,
          3,
          4,
          3,
          3,
          3,
          3,
          2,
          3,
          3,
          4
         ],
         "xaxis": "x",
         "y": [
          140000,
          163500,
          217000,
          259500,
          200100,
          315000,
          311500,
          235000,
          158500,
          157000,
          177000,
          239000,
          90350,
          188700,
          289000,
          96500,
          234000,
          200624,
          217500,
          359100,
          149000,
          137500,
          257500,
          222000,
          164000,
          189950,
          250000,
          145000,
          145000,
          160000,
          165000,
          119750,
          220000,
          219500,
          174500,
          230000,
          224000,
          239000,
          154900,
          392500,
          138887,
          230000,
          381000,
          139000,
          177500,
          335000,
          177000,
          275000,
          223000,
          191000,
          266500
         ],
         "yaxis": "y"
        },
        {
         "hovertemplate": "Neighborhood=NoRidge<br>BedroomAbvGr=%{x}<br>SalePrice=%{y}<extra></extra>",
         "legendgroup": "NoRidge",
         "marker": {
          "color": "#ab63fa",
          "symbol": "circle"
         },
         "mode": "markers",
         "name": "NoRidge",
         "showlegend": true,
         "type": "scattergl",
         "x": [
          4,
          4,
          4,
          4,
          4,
          4,
          3,
          4,
          4,
          4,
          3,
          3,
          4,
          4,
          2,
          4,
          4,
          4,
          3,
          3,
          4,
          3,
          3,
          4,
          3,
          5,
          3,
          3,
          4,
          4,
          4,
          2,
          2,
          4,
          4,
          4,
          3,
          4,
          2,
          3,
          3
         ],
         "xaxis": "x",
         "y": [
          250000,
          260000,
          290000,
          403000,
          290000,
          260000,
          280000,
          258000,
          315000,
          430000,
          265000,
          315750,
          248000,
          268000,
          350000,
          402000,
          221000,
          755000,
          341000,
          260400,
          290000,
          337000,
          269790,
          336000,
          348000,
          310000,
          248000,
          325000,
          625000,
          285000,
          745000,
          262000,
          301500,
          290000,
          302000,
          333168,
          190000,
          410000,
          466500,
          340000,
          271000
         ],
         "yaxis": "y"
        },
        {
         "hovertemplate": "Neighborhood=Mitchel<br>BedroomAbvGr=%{x}<br>SalePrice=%{y}<extra></extra>",
         "legendgroup": "Mitchel",
         "marker": {
          "color": "#FFA15A",
          "symbol": "circle"
         },
         "mode": "markers",
         "name": "Mitchel",
         "showlegend": true,
         "type": "scattergl",
         "x": [
          1,
          1,
          2,
          2,
          5,
          3,
          3,
          2,
          3,
          3,
          2,
          3,
          2,
          2,
          4,
          2,
          3,
          2,
          2,
          2,
          3,
          4,
          2,
          2,
          1,
          3,
          3,
          3,
          2,
          4,
          4,
          4,
          4,
          3,
          3,
          3,
          2,
          3,
          3,
          3,
          2,
          3,
          3,
          4,
          3,
          3,
          3,
          3,
          3
         ],
         "xaxis": "x",
         "y": [
          143000,
          239686,
          129500,
          153500,
          171000,
          173000,
          171500,
          124500,
          201000,
          142500,
          156000,
          215000,
          206300,
          113000,
          188000,
          164000,
          134000,
          129500,
          170000,
          138000,
          147000,
          160000,
          162000,
          135000,
          165500,
          146800,
          271000,
          132250,
          131000,
          150900,
          143000,
          172000,
          126000,
          240000,
          115000,
          93500,
          196000,
          171000,
          119500,
          168000,
          165000,
          169900,
          130000,
          139000,
          130500,
          112000,
          160000,
          157900,
          84500
         ],
         "yaxis": "y"
        },
        {
         "hovertemplate": "Neighborhood=Somerst<br>BedroomAbvGr=%{x}<br>SalePrice=%{y}<extra></extra>",
         "legendgroup": "Somerst",
         "marker": {
          "color": "#19d3f3",
          "symbol": "circle"
         },
         "mode": "markers",
         "name": "Somerst",
         "showlegend": true,
         "type": "scattergl",
         "x": [
          3,
          3,
          3,
          3,
          2,
          3,
          2,
          3,
          3,
          3,
          3,
          3,
          3,
          3,
          2,
          3,
          2,
          3,
          3,
          4,
          2,
          2,
          3,
          2,
          3,
          3,
          3,
          2,
          3,
          4,
          2,
          2,
          2,
          3,
          2,
          3,
          1,
          3,
          2,
          2,
          3,
          3,
          3,
          2,
          3,
          3,
          3,
          2,
          2,
          3,
          4,
          2,
          3,
          2,
          3,
          3,
          3,
          3,
          3,
          1,
          3,
          3,
          3,
          1,
          2,
          3,
          2,
          2,
          3,
          3,
          4,
          3,
          3,
          3,
          3,
          2,
          2,
          3,
          3,
          2,
          3,
          3,
          3,
          3,
          3,
          2
         ],
         "xaxis": "x",
         "y": [
          307000,
          249700,
          172500,
          245000,
          164500,
          250000,
          176000,
          254900,
          177000,
          311872,
          252678,
          262500,
          207500,
          266000,
          185000,
          244600,
          164700,
          239000,
          270000,
          340000,
          187750,
          241000,
          339750,
          222000,
          210000,
          263435,
          226700,
          208300,
          176000,
          263000,
          146000,
          151000,
          168500,
          226000,
          370878,
          205950,
          423000,
          227875,
          148800,
          196000,
          172500,
          179400,
          215200,
          264132,
          225000,
          227680,
          232600,
          147400,
          151000,
          250580,
          303477,
          328900,
          255000,
          173733,
          320000,
          253000,
          155000,
          182000,
          165000,
          199900,
          197000,
          232000,
          252000,
          197000,
          160000,
          235128,
          171900,
          174000,
          290000,
          229456,
          214000,
          248328,
          186500,
          183900,
          232000,
          208900,
          147000,
          227000,
          177500,
          144152,
          216000,
          250000,
          282922,
          310000,
          287090,
          185000
         ],
         "yaxis": "y"
        },
        {
         "hovertemplate": "Neighborhood=NWAmes<br>BedroomAbvGr=%{x}<br>SalePrice=%{y}<extra></extra>",
         "legendgroup": "NWAmes",
         "marker": {
          "color": "#FF6692",
          "symbol": "circle"
         },
         "mode": "markers",
         "name": "NWAmes",
         "showlegend": true,
         "type": "scattergl",
         "x": [
          3,
          3,
          3,
          3,
          3,
          4,
          3,
          3,
          3,
          3,
          3,
          4,
          3,
          3,
          3,
          3,
          3,
          3,
          3,
          3,
          3,
          4,
          3,
          4,
          4,
          3,
          4,
          3,
          3,
          3,
          3,
          4,
          3,
          3,
          3,
          3,
          4,
          3,
          3,
          4,
          3,
          4,
          4,
          2,
          4,
          3,
          4,
          4,
          3,
          4,
          3,
          3,
          4,
          4,
          4,
          3,
          3,
          3,
          3,
          3,
          3,
          3,
          4,
          2,
          4,
          3,
          4,
          5,
          3,
          3,
          3,
          3,
          3
         ],
         "xaxis": "x",
         "y": [
          200000,
          205000,
          190000,
          181000,
          174000,
          190000,
          179900,
          241500,
          175500,
          235000,
          175000,
          260000,
          187500,
          202500,
          190000,
          215000,
          175500,
          190000,
          175000,
          158000,
          213250,
          229000,
          148000,
          240000,
          165150,
          82500,
          152000,
          197900,
          140000,
          165000,
          157000,
          299800,
          196500,
          161500,
          181000,
          152000,
          250000,
          207500,
          175000,
          176000,
          197500,
          272000,
          195000,
          185000,
          136905,
          227000,
          173000,
          278000,
          180000,
          154000,
          145000,
          157000,
          205000,
          197500,
          185000,
          153500,
          170000,
          178000,
          185750,
          162000,
          197900,
          143000,
          162900,
          167900,
          135000,
          262500,
          170000,
          250000,
          215000,
          179900,
          182900,
          197000,
          210000
         ],
         "yaxis": "y"
        },
        {
         "hovertemplate": "Neighborhood=OldTown<br>BedroomAbvGr=%{x}<br>SalePrice=%{y}<extra></extra>",
         "legendgroup": "OldTown",
         "marker": {
          "color": "#B6E880",
          "symbol": "circle"
         },
         "mode": "markers",
         "name": "OldTown",
         "showlegend": true,
         "type": "scattergl",
         "x": [
          2,
          2,
          3,
          2,
          3,
          2,
          4,
          2,
          2,
          3,
          4,
          1,
          3,
          2,
          2,
          3,
          4,
          3,
          5,
          2,
          2,
          3,
          2,
          3,
          4,
          2,
          3,
          2,
          3,
          3,
          3,
          3,
          2,
          2,
          2,
          3,
          4,
          2,
          2,
          2,
          4,
          3,
          2,
          4,
          3,
          2,
          4,
          3,
          3,
          2,
          3,
          4,
          3,
          3,
          3,
          0,
          3,
          4,
          2,
          2,
          4,
          3,
          2,
          2,
          4,
          3,
          3,
          4,
          2,
          2,
          2,
          2,
          3,
          4,
          3,
          2,
          2,
          2,
          4,
          2,
          2,
          2,
          5,
          2,
          3,
          2,
          2,
          5,
          2,
          3,
          3,
          2,
          3,
          3,
          3,
          3,
          4,
          4,
          2,
          5,
          2,
          2,
          4,
          2,
          4,
          5,
          3,
          3,
          3,
          4,
          2,
          4,
          2
         ],
         "xaxis": "x",
         "y": [
          129900,
          113000,
          140000,
          80000,
          107400,
          110000,
          133900,
          100000,
          115000,
          87000,
          125000,
          103200,
          152000,
          128500,
          100000,
          200000,
          475000,
          135000,
          104000,
          112000,
          110000,
          107000,
          110500,
          79000,
          137000,
          97000,
          130000,
          73000,
          295000,
          119900,
          178000,
          126175,
          105900,
          109000,
          115000,
          135000,
          79900,
          116000,
          120000,
          110000,
          98000,
          161000,
          89471,
          155000,
          160000,
          91300,
          124500,
          161000,
          106250,
          125000,
          112500,
          131500,
          325000,
          114504,
          124000,
          144000,
          93000,
          87000,
          109500,
          108480,
          140000,
          159500,
          163000,
          132000,
          265979,
          96500,
          128000,
          139000,
          107900,
          106000,
          93000,
          153500,
          157500,
          153900,
          66500,
          124900,
          37900,
          117000,
          168000,
          86000,
          85000,
          87000,
          90000,
          110500,
          170000,
          117000,
          140000,
          117500,
          116900,
          143000,
          115000,
          120000,
          95000,
          125000,
          144000,
          129500,
          122000,
          107500,
          147000,
          256000,
          52500,
          108500,
          122000,
          105000,
          157000,
          136000,
          163000,
          105000,
          125500,
          122500,
          119000,
          64500,
          149700
         ],
         "yaxis": "y"
        },
        {
         "hovertemplate": "Neighborhood=BrkSide<br>BedroomAbvGr=%{x}<br>SalePrice=%{y}<extra></extra>",
         "legendgroup": "BrkSide",
         "marker": {
          "color": "#FF97FF",
          "symbol": "circle"
         },
         "mode": "markers",
         "name": "BrkSide",
         "showlegend": true,
         "type": "scattergl",
         "x": [
          2,
          2,
          1,
          3,
          2,
          2,
          3,
          3,
          3,
          3,
          3,
          5,
          3,
          3,
          2,
          2,
          3,
          3,
          4,
          3,
          3,
          1,
          3,
          2,
          3,
          2,
          2,
          1,
          3,
          2,
          2,
          3,
          2,
          3,
          2,
          3,
          1,
          2,
          3,
          2,
          3,
          3,
          2,
          3,
          3,
          3,
          2,
          3,
          3,
          4,
          2,
          2,
          2,
          3,
          4,
          3,
          4,
          2
         ],
         "xaxis": "x",
         "y": [
          118000,
          132000,
          68500,
          114500,
          127000,
          105000,
          115000,
          127000,
          76500,
          205000,
          153575,
          214500,
          140200,
          145000,
          100000,
          119000,
          162900,
          110000,
          184000,
          159000,
          128000,
          39300,
          210000,
          113000,
          133000,
          130000,
          79500,
          60000,
          141500,
          89000,
          52000,
          129000,
          100000,
          223500,
          109500,
          88000,
          79900,
          116500,
          167500,
          85500,
          121600,
          128000,
          102000,
          144000,
          149000,
          117000,
          80500,
          127500,
          180500,
          132500,
          72500,
          82500,
          134900,
          131000,
          137500,
          120000,
          207000,
          121000
         ],
         "yaxis": "y"
        },
        {
         "hovertemplate": "Neighborhood=Sawyer<br>BedroomAbvGr=%{x}<br>SalePrice=%{y}<extra></extra>",
         "legendgroup": "Sawyer",
         "marker": {
          "color": "#FECB52",
          "symbol": "circle"
         },
         "mode": "markers",
         "name": "Sawyer",
         "showlegend": true,
         "type": "scattergl",
         "x": [
          3,
          2,
          2,
          3,
          3,
          3,
          4,
          3,
          3,
          6,
          4,
          3,
          3,
          3,
          3,
          2,
          3,
          3,
          3,
          2,
          3,
          3,
          3,
          3,
          3,
          2,
          3,
          3,
          3,
          3,
          3,
          3,
          3,
          3,
          3,
          3,
          3,
          3,
          2,
          3,
          3,
          2,
          3,
          3,
          3,
          3,
          3,
          3,
          3,
          3,
          3,
          3,
          3,
          3,
          3,
          4,
          3,
          3,
          3,
          3,
          2,
          3,
          3,
          0,
          4,
          3,
          0,
          3,
          4,
          3,
          4,
          3,
          3,
          3
         ],
         "xaxis": "x",
         "y": [
          129500,
          144000,
          90000,
          154000,
          149350,
          127000,
          136500,
          139000,
          180000,
          125000,
          172500,
          143900,
          125000,
          151000,
          122000,
          108000,
          150000,
          149500,
          62383,
          132500,
          132500,
          130000,
          158000,
          121500,
          164500,
          137000,
          118500,
          135000,
          168000,
          128500,
          138500,
          109900,
          130500,
          131400,
          108000,
          142000,
          175000,
          158900,
          134900,
          142500,
          143500,
          128000,
          171000,
          170000,
          127000,
          131500,
          129000,
          148000,
          172500,
          154500,
          165000,
          135000,
          125500,
          132000,
          139000,
          135000,
          155000,
          133000,
          130000,
          140000,
          94000,
          80000,
          129000,
          108959,
          158000,
          148000,
          145000,
          125000,
          112000,
          134000,
          190000,
          137000,
          112000,
          129000
         ],
         "yaxis": "y"
        },
        {
         "hovertemplate": "Neighborhood=NridgHt<br>BedroomAbvGr=%{x}<br>SalePrice=%{y}<extra></extra>",
         "legendgroup": "NridgHt",
         "marker": {
          "color": "#636efa",
          "symbol": "circle"
         },
         "mode": "markers",
         "name": "NridgHt",
         "showlegend": true,
         "type": "scattergl",
         "x": [
          4,
          4,
          3,
          3,
          2,
          4,
          2,
          2,
          4,
          2,
          3,
          3,
          3,
          3,
          3,
          3,
          3,
          2,
          3,
          4,
          4,
          3,
          2,
          2,
          2,
          4,
          2,
          3,
          3,
          2,
          3,
          2,
          3,
          3,
          2,
          2,
          3,
          3,
          3,
          3,
          3,
          3,
          3,
          3,
          3,
          2,
          1,
          2,
          2,
          3,
          3,
          4,
          4,
          2,
          2,
          4,
          2,
          4,
          2,
          3,
          3,
          1,
          2,
          3,
          3,
          3,
          2,
          3,
          1,
          2,
          2,
          2,
          3,
          2,
          2,
          3,
          2
         ],
         "xaxis": "x",
         "y": [
          345000,
          325300,
          256300,
          306000,
          277500,
          309000,
          319900,
          202500,
          317000,
          372402,
          412500,
          220000,
          325624,
          274900,
          386250,
          318000,
          415298,
          207500,
          360000,
          342643,
          354000,
          284000,
          207000,
          266000,
          154000,
          437154,
          318061,
          426000,
          280000,
          555000,
          250000,
          440000,
          380000,
          326000,
          374000,
          202665,
          402861,
          446261,
          255500,
          284000,
          214000,
          253293,
          451950,
          275000,
          314813,
          209500,
          274000,
          194700,
          254000,
          275500,
          395000,
          485000,
          582933,
          224000,
          385000,
          350000,
          611657,
          285000,
          173000,
          395192,
          337500,
          196000,
          185850,
          335000,
          280000,
          318000,
          230000,
          233170,
          367294,
          175500,
          465000,
          171750,
          281000,
          325000,
          202500,
          315000,
          394617
         ],
         "yaxis": "y"
        },
        {
         "hovertemplate": "Neighborhood=NAmes<br>BedroomAbvGr=%{x}<br>SalePrice=%{y}<extra></extra>",
         "legendgroup": "NAmes",
         "marker": {
          "color": "#EF553B",
          "symbol": "circle"
         },
         "mode": "markers",
         "name": "NAmes",
         "showlegend": true,
         "type": "scattergl",
         "x": [
          2,
          2,
          3,
          3,
          2,
          4,
          3,
          3,
          3,
          3,
          3,
          3,
          3,
          3,
          3,
          2,
          4,
          3,
          2,
          2,
          3,
          3,
          3,
          3,
          4,
          3,
          3,
          3,
          4,
          2,
          3,
          3,
          4,
          4,
          3,
          3,
          2,
          2,
          3,
          2,
          3,
          3,
          3,
          3,
          3,
          3,
          3,
          2,
          5,
          3,
          6,
          3,
          3,
          2,
          2,
          3,
          3,
          3,
          2,
          3,
          3,
          3,
          4,
          3,
          2,
          3,
          2,
          2,
          3,
          3,
          3,
          3,
          3,
          2,
          3,
          2,
          3,
          3,
          2,
          2,
          3,
          1,
          2,
          2,
          6,
          2,
          3,
          2,
          3,
          3,
          3,
          2,
          3,
          3,
          3,
          5,
          3,
          3,
          4,
          3,
          3,
          4,
          3,
          3,
          2,
          3,
          3,
          3,
          3,
          4,
          2,
          3,
          2,
          2,
          2,
          2,
          3,
          3,
          4,
          2,
          3,
          3,
          3,
          3,
          6,
          3,
          3,
          3,
          2,
          3,
          3,
          3,
          4,
          4,
          2,
          3,
          4,
          2,
          2,
          3,
          5,
          3,
          2,
          4,
          3,
          3,
          3,
          2,
          4,
          3,
          3,
          3,
          3,
          2,
          3,
          3,
          4,
          3,
          4,
          2,
          3,
          3,
          3,
          2,
          1,
          2,
          3,
          2,
          3,
          2,
          2,
          3,
          2,
          3,
          2,
          2,
          4,
          3,
          3,
          3,
          3,
          3,
          2,
          3,
          4,
          3,
          2,
          4,
          3,
          2,
          3,
          3,
          3,
          3,
          2,
          2,
          3,
          4,
          3,
          3,
          3,
          3,
          4,
          3,
          3,
          6,
          4,
          3,
          3,
          4,
          3,
          4,
          4,
          3,
          3,
          3,
          2,
          3,
          2,
          3,
          3,
          3,
          3,
          4,
          2
         ],
         "xaxis": "x",
         "y": [
          157000,
          149000,
          139000,
          134800,
          207500,
          165500,
          153000,
          109000,
          160000,
          141000,
          130000,
          180500,
          180000,
          244000,
          144900,
          135750,
          193500,
          126500,
          109900,
          98600,
          128950,
          136000,
          155000,
          150000,
          226000,
          150750,
          143000,
          115000,
          166000,
          109500,
          215000,
          163000,
          184000,
          235000,
          141000,
          145000,
          134450,
          97000,
          148000,
          140000,
          158000,
          145000,
          176000,
          139000,
          159000,
          88000,
          167000,
          132000,
          242000,
          145250,
          119000,
          139000,
          155000,
          87500,
          151500,
          157500,
          159000,
          165000,
          132000,
          162000,
          123000,
          106500,
          169500,
          142000,
          139000,
          109008,
          190000,
          167000,
          146500,
          147000,
          156000,
          133000,
          155000,
          120000,
          124500,
          164900,
          129900,
          150000,
          132000,
          107500,
          111250,
          133000,
          141000,
          135960,
          142600,
          120000,
          139000,
          118500,
          181900,
          205000,
          137500,
          105500,
          160000,
          139900,
          153000,
          135000,
          168500,
          139400,
          345000,
          143250,
          98300,
          155000,
          145500,
          97500,
          110000,
          129000,
          140000,
          124500,
          120500,
          110000,
          93500,
          156000,
          127500,
          114500,
          110000,
          118000,
          135500,
          159950,
          157900,
          137000,
          166000,
          167000,
          139950,
          174900,
          141000,
          158000,
          132500,
          148500,
          109500,
          116000,
          133000,
          100000,
          145000,
          268000,
          149500,
          122900,
          140000,
          110000,
          153000,
          128000,
          154300,
          176500,
          117500,
          242000,
          143000,
          129000,
          135000,
          140000,
          135000,
          178400,
          187000,
          136500,
          163500,
          119200,
          167500,
          105000,
          165000,
          154000,
          167900,
          135000,
          135000,
          138800,
          160000,
          92900,
          146000,
          129000,
          119500,
          135000,
          159500,
          129900,
          134500,
          133700,
          115000,
          119000,
          139000,
          124000,
          201800,
          179900,
          163000,
          116050,
          140000,
          134500,
          115000,
          143000,
          137900,
          145000,
          147000,
          127000,
          132500,
          101800,
          142000,
          119000,
          244000,
          151000,
          128900,
          181000,
          144000,
          137000,
          180500,
          138500,
          155000,
          154000,
          206900,
          156500,
          123000,
          200000,
          171000,
          110000,
          149900,
          104900,
          165500,
          237500,
          124000,
          123000,
          138000,
          140000,
          90000,
          124000,
          144000,
          142000,
          140000,
          174000,
          120500,
          136000,
          142125
         ],
         "yaxis": "y"
        },
        {
         "hovertemplate": "Neighborhood=SawyerW<br>BedroomAbvGr=%{x}<br>SalePrice=%{y}<extra></extra>",
         "legendgroup": "SawyerW",
         "marker": {
          "color": "#00cc96",
          "symbol": "circle"
         },
         "mode": "markers",
         "name": "SawyerW",
         "showlegend": true,
         "type": "scattergl",
         "x": [
          3,
          2,
          3,
          3,
          4,
          5,
          2,
          3,
          2,
          3,
          3,
          3,
          3,
          3,
          3,
          2,
          4,
          4,
          2,
          2,
          2,
          3,
          2,
          3,
          3,
          1,
          3,
          3,
          2,
          3,
          4,
          3,
          4,
          3,
          3,
          3,
          3,
          3,
          4,
          6,
          4,
          3,
          2,
          2,
          3,
          2,
          4,
          2,
          3,
          3,
          3,
          3,
          2,
          3,
          3,
          3,
          3,
          3,
          2
         ],
         "xaxis": "x",
         "y": [
          159000,
          144000,
          158000,
          178000,
          118964,
          320000,
          153900,
          141000,
          153337,
          277000,
          194500,
          120000,
          205000,
          173000,
          228500,
          179200,
          225000,
          301000,
          82000,
          125000,
          76000,
          228000,
          275000,
          187000,
          215000,
          316600,
          220000,
          193500,
          143000,
          179000,
          144000,
          175900,
          233000,
          171000,
          189000,
          213000,
          152000,
          236000,
          118858,
          142953,
          238000,
          201000,
          193000,
          184900,
          119900,
          99500,
          262280,
          147000,
          179900,
          239500,
          180000,
          271900,
          107000,
          189000,
          142500,
          179200,
          155000,
          215000,
          257000
         ],
         "yaxis": "y"
        },
        {
         "hovertemplate": "Neighborhood=IDOTRR<br>BedroomAbvGr=%{x}<br>SalePrice=%{y}<extra></extra>",
         "legendgroup": "IDOTRR",
         "marker": {
          "color": "#ab63fa",
          "symbol": "circle"
         },
         "mode": "markers",
         "name": "IDOTRR",
         "showlegend": true,
         "type": "scattergl",
         "x": [
          3,
          3,
          2,
          3,
          2,
          4,
          3,
          3,
          2,
          2,
          4,
          3,
          2,
          3,
          3,
          2,
          3,
          2,
          3,
          3,
          3,
          3,
          2,
          2,
          2,
          2,
          2,
          1,
          3,
          2,
          3,
          2,
          2,
          2,
          2,
          2,
          3
         ],
         "xaxis": "x",
         "y": [
          139400,
          40000,
          110000,
          101000,
          85000,
          169500,
          115000,
          100000,
          84500,
          120500,
          152000,
          89500,
          87000,
          78000,
          147000,
          67000,
          119500,
          34900,
          108000,
          141000,
          135000,
          55000,
          102776,
          103000,
          109900,
          55993,
          106500,
          35311,
          91000,
          81000,
          127000,
          118400,
          120500,
          68400,
          55000,
          125500,
          125500
         ],
         "yaxis": "y"
        },
        {
         "hovertemplate": "Neighborhood=MeadowV<br>BedroomAbvGr=%{x}<br>SalePrice=%{y}<extra></extra>",
         "legendgroup": "MeadowV",
         "marker": {
          "color": "#FFA15A",
          "symbol": "circle"
         },
         "mode": "markers",
         "name": "MeadowV",
         "showlegend": true,
         "type": "scattergl",
         "x": [
          3,
          2,
          3,
          3,
          1,
          1,
          3,
          1,
          1,
          3,
          3,
          3,
          1,
          5,
          3,
          4,
          1
         ],
         "xaxis": "x",
         "y": [
          129900,
          91000,
          85000,
          134000,
          81000,
          86000,
          115000,
          75500,
          84500,
          75000,
          88000,
          97000,
          80000,
          151400,
          83500,
          127000,
          92000
         ],
         "yaxis": "y"
        },
        {
         "hovertemplate": "Neighborhood=Edwards<br>BedroomAbvGr=%{x}<br>SalePrice=%{y}<extra></extra>",
         "legendgroup": "Edwards",
         "marker": {
          "color": "#19d3f3",
          "symbol": "circle"
         },
         "mode": "markers",
         "name": "Edwards",
         "showlegend": true,
         "type": "scattergl",
         "x": [
          2,
          3,
          2,
          4,
          2,
          3,
          2,
          4,
          4,
          3,
          3,
          2,
          2,
          3,
          3,
          3,
          3,
          1,
          3,
          4,
          1,
          5,
          3,
          4,
          3,
          3,
          3,
          3,
          4,
          3,
          2,
          2,
          3,
          2,
          3,
          2,
          3,
          4,
          3,
          3,
          2,
          2,
          3,
          4,
          3,
          3,
          3,
          2,
          4,
          3,
          3,
          4,
          2,
          3,
          3,
          3,
          2,
          3,
          3,
          4,
          4,
          4,
          3,
          3,
          2,
          4,
          2,
          3,
          4,
          2,
          4,
          4,
          3,
          3,
          3,
          2,
          2,
          3,
          4,
          3,
          4,
          2,
          3,
          2,
          2,
          2,
          2,
          3,
          3,
          3,
          3,
          3,
          2,
          3,
          2,
          2,
          4,
          2,
          2,
          3
         ],
         "xaxis": "x",
         "y": [
          82000,
          94750,
          83000,
          136900,
          155000,
          130000,
          79000,
          127500,
          243000,
          120000,
          130000,
          140000,
          98000,
          186000,
          113000,
          148000,
          131000,
          82500,
          95000,
          198500,
          61000,
          81000,
          125000,
          119000,
          129000,
          60000,
          126000,
          110000,
          118000,
          127500,
          148000,
          140000,
          184750,
          86000,
          107500,
          108000,
          108000,
          185000,
          118500,
          225000,
          67000,
          85000,
          155000,
          108000,
          167000,
          137500,
          103600,
          123500,
          135000,
          320000,
          179000,
          98000,
          102000,
          107000,
          116000,
          130500,
          157000,
          135500,
          135000,
          145900,
          150000,
          127500,
          110000,
          125000,
          82000,
          100000,
          176000,
          84000,
          139600,
          84900,
          144500,
          91500,
          159500,
          137500,
          112000,
          118000,
          80000,
          149900,
          235000,
          93000,
          104900,
          113000,
          165400,
          99900,
          177000,
          115000,
          140000,
          160000,
          130000,
          119000,
          111000,
          79000,
          100000,
          117000,
          58500,
          105000,
          274970,
          112000,
          145000,
          147500
         ],
         "yaxis": "y"
        },
        {
         "hovertemplate": "Neighborhood=Timber<br>BedroomAbvGr=%{x}<br>SalePrice=%{y}<extra></extra>",
         "legendgroup": "Timber",
         "marker": {
          "color": "#FF6692",
          "symbol": "circle"
         },
         "mode": "markers",
         "name": "Timber",
         "showlegend": true,
         "type": "scattergl",
         "x": [
          2,
          2,
          4,
          2,
          3,
          3,
          3,
          4,
          3,
          3,
          3,
          2,
          3,
          2,
          4,
          4,
          2,
          3,
          3,
          3,
          3,
          3,
          3,
          3,
          4,
          2,
          3,
          2,
          4,
          3,
          2,
          3,
          2,
          3,
          3,
          3,
          4,
          3
         ],
         "xaxis": "x",
         "y": [
          170000,
          220000,
          269500,
          228000,
          184000,
          375000,
          228950,
          202900,
          175000,
          204000,
          175000,
          315000,
          224500,
          369900,
          305000,
          335000,
          176000,
          312500,
          187500,
          248900,
          187500,
          201000,
          137500,
          270000,
          214900,
          287000,
          293077,
          315500,
          250000,
          186700,
          265900,
          378500,
          180000,
          283463,
          239000,
          167500,
          281213,
          160000
         ],
         "yaxis": "y"
        },
        {
         "hovertemplate": "Neighborhood=Gilbert<br>BedroomAbvGr=%{x}<br>SalePrice=%{y}<extra></extra>",
         "legendgroup": "Gilbert",
         "marker": {
          "color": "#B6E880",
          "symbol": "circle"
         },
         "mode": "markers",
         "name": "Gilbert",
         "showlegend": true,
         "type": "scattergl",
         "x": [
          3,
          3,
          3,
          3,
          3,
          3,
          3,
          3,
          4,
          3,
          3,
          4,
          4,
          4,
          3,
          2,
          3,
          3,
          3,
          3,
          3,
          3,
          3,
          3,
          3,
          3,
          4,
          3,
          3,
          3,
          3,
          3,
          3,
          3,
          3,
          3,
          4,
          3,
          3,
          3,
          3,
          3,
          2,
          3,
          3,
          3,
          3,
          3,
          4,
          3,
          3,
          3,
          3,
          3,
          3,
          3,
          3,
          3,
          3,
          3,
          3,
          4,
          3,
          3,
          3,
          3,
          4,
          4,
          3,
          2,
          3,
          3,
          3,
          3,
          3,
          3,
          4,
          3,
          3
         ],
         "xaxis": "x",
         "y": [
          177000,
          185000,
          168500,
          174000,
          185000,
          180000,
          244000,
          222500,
          320000,
          183500,
          180500,
          200000,
          216500,
          230000,
          185000,
          141000,
          165600,
          188500,
          192000,
          173000,
          172400,
          179000,
          168000,
          145000,
          181134,
          181000,
          199900,
          172785,
          178000,
          179665,
          175000,
          170000,
          183200,
          230500,
          179540,
          239900,
          236000,
          162000,
          176000,
          194500,
          225000,
          174000,
          169000,
          178000,
          180000,
          240000,
          174000,
          169990,
          222000,
          214000,
          178900,
          160000,
          176485,
          178000,
          187500,
          274725,
          181000,
          188000,
          184100,
          163900,
          259000,
          215000,
          169000,
          173000,
          189000,
          176000,
          219210,
          164000,
          184000,
          190000,
          181000,
          225000,
          176500,
          156932,
          377500,
          193000,
          192140,
          186500,
          175000
         ],
         "yaxis": "y"
        },
        {
         "hovertemplate": "Neighborhood=StoneBr<br>BedroomAbvGr=%{x}<br>SalePrice=%{y}<extra></extra>",
         "legendgroup": "StoneBr",
         "marker": {
          "color": "#FF97FF",
          "symbol": "circle"
         },
         "mode": "markers",
         "name": "StoneBr",
         "showlegend": true,
         "type": "scattergl",
         "x": [
          3,
          2,
          1,
          0,
          3,
          1,
          1,
          2,
          4,
          3,
          3,
          3,
          2,
          4,
          2,
          2,
          2,
          2,
          4,
          1,
          4,
          2,
          2,
          2,
          3
         ],
         "xaxis": "x",
         "y": [
          438780,
          239000,
          501837,
          286000,
          377426,
          394432,
          212000,
          251000,
          325000,
          319000,
          372500,
          207500,
          392000,
          361919,
          189000,
          275000,
          236500,
          180000,
          538000,
          187500,
          556581,
          213500,
          170000,
          278000,
          260000
         ],
         "yaxis": "y"
        },
        {
         "hovertemplate": "Neighborhood=ClearCr<br>BedroomAbvGr=%{x}<br>SalePrice=%{y}<extra></extra>",
         "legendgroup": "ClearCr",
         "marker": {
          "color": "#FECB52",
          "symbol": "circle"
         },
         "mode": "markers",
         "name": "ClearCr",
         "showlegend": true,
         "type": "scattergl",
         "x": [
          3,
          1,
          1,
          2,
          4,
          4,
          2,
          4,
          2,
          3,
          4,
          3,
          2,
          2,
          1,
          2,
          2,
          5,
          4,
          3,
          3,
          5,
          4,
          3,
          3,
          5,
          0,
          4
         ],
         "xaxis": "x",
         "y": [
          225000,
          180000,
          235000,
          190000,
          211000,
          277000,
          241500,
          192000,
          190000,
          130000,
          134432,
          240000,
          280000,
          256000,
          143000,
          173000,
          302000,
          187500,
          200000,
          155000,
          185000,
          240000,
          244400,
          328000,
          200500,
          161500,
          260000,
          190000
         ],
         "yaxis": "y"
        },
        {
         "hovertemplate": "Neighborhood=NPkVill<br>BedroomAbvGr=%{x}<br>SalePrice=%{y}<extra></extra>",
         "legendgroup": "NPkVill",
         "marker": {
          "color": "#636efa",
          "symbol": "circle"
         },
         "mode": "markers",
         "name": "NPkVill",
         "showlegend": true,
         "type": "scattergl",
         "x": [
          2,
          3,
          3,
          2,
          3,
          3,
          3,
          2,
          2
         ],
         "xaxis": "x",
         "y": [
          128000,
          148500,
          147000,
          140000,
          148500,
          155000,
          146000,
          127500,
          143750
         ],
         "yaxis": "y"
        },
        {
         "hovertemplate": "Neighborhood=Blmngtn<br>BedroomAbvGr=%{x}<br>SalePrice=%{y}<extra></extra>",
         "legendgroup": "Blmngtn",
         "marker": {
          "color": "#EF553B",
          "symbol": "circle"
         },
         "mode": "markers",
         "name": "Blmngtn",
         "showlegend": true,
         "type": "scattergl",
         "x": [
          2,
          2,
          2,
          2,
          2,
          2,
          2,
          1,
          2,
          2,
          2,
          1,
          2,
          2,
          2,
          2,
          1
         ],
         "xaxis": "x",
         "y": [
          167240,
          192500,
          192000,
          172500,
          178740,
          234000,
          194201,
          264561,
          160200,
          215000,
          159895,
          181000,
          213490,
          191000,
          174000,
          246578,
          175900
         ],
         "yaxis": "y"
        },
        {
         "hovertemplate": "Neighborhood=BrDale<br>BedroomAbvGr=%{x}<br>SalePrice=%{y}<extra></extra>",
         "legendgroup": "BrDale",
         "marker": {
          "color": "#00cc96",
          "symbol": "circle"
         },
         "mode": "markers",
         "name": "BrDale",
         "showlegend": true,
         "type": "scattergl",
         "x": [
          3,
          2,
          2,
          2,
          2,
          2,
          2,
          3,
          3,
          2,
          3,
          3,
          3,
          3,
          3,
          2
         ],
         "xaxis": "x",
         "y": [
          112000,
          106000,
          94500,
          89500,
          118000,
          85400,
          122500,
          113000,
          88000,
          100000,
          118000,
          106000,
          91500,
          119500,
          125000,
          83000
         ],
         "yaxis": "y"
        },
        {
         "hovertemplate": "Neighborhood=SWISU<br>BedroomAbvGr=%{x}<br>SalePrice=%{y}<extra></extra>",
         "legendgroup": "SWISU",
         "marker": {
          "color": "#ab63fa",
          "symbol": "circle"
         },
         "mode": "markers",
         "name": "SWISU",
         "showlegend": true,
         "type": "scattergl",
         "x": [
          4,
          6,
          2,
          3,
          3,
          3,
          4,
          3,
          8,
          3,
          3,
          3,
          4,
          5,
          4,
          5,
          5,
          4,
          1,
          4,
          4,
          4,
          4,
          2,
          3
         ],
         "xaxis": "x",
         "y": [
          179500,
          135900,
          140000,
          127000,
          115000,
          155000,
          128000,
          145000,
          200000,
          159434,
          175000,
          139500,
          140000,
          118500,
          102000,
          160000,
          197000,
          136500,
          60000,
          135000,
          130000,
          169000,
          189000,
          91000,
          137450
         ],
         "yaxis": "y"
        },
        {
         "hovertemplate": "Neighborhood=Blueste<br>BedroomAbvGr=%{x}<br>SalePrice=%{y}<extra></extra>",
         "legendgroup": "Blueste",
         "marker": {
          "color": "#FFA15A",
          "symbol": "circle"
         },
         "mode": "markers",
         "name": "Blueste",
         "showlegend": true,
         "type": "scattergl",
         "x": [
          3,
          2
         ],
         "xaxis": "x",
         "y": [
          151000,
          124000
         ],
         "yaxis": "y"
        }
       ],
       "layout": {
        "legend": {
         "title": {
          "text": "Neighborhood"
         },
         "tracegroupgap": 0
        },
        "margin": {
         "t": 60
        },
        "template": {
         "data": {
          "bar": [
           {
            "error_x": {
             "color": "#2a3f5f"
            },
            "error_y": {
             "color": "#2a3f5f"
            },
            "marker": {
             "line": {
              "color": "#E5ECF6",
              "width": 0.5
             }
            },
            "type": "bar"
           }
          ],
          "barpolar": [
           {
            "marker": {
             "line": {
              "color": "#E5ECF6",
              "width": 0.5
             }
            },
            "type": "barpolar"
           }
          ],
          "carpet": [
           {
            "aaxis": {
             "endlinecolor": "#2a3f5f",
             "gridcolor": "white",
             "linecolor": "white",
             "minorgridcolor": "white",
             "startlinecolor": "#2a3f5f"
            },
            "baxis": {
             "endlinecolor": "#2a3f5f",
             "gridcolor": "white",
             "linecolor": "white",
             "minorgridcolor": "white",
             "startlinecolor": "#2a3f5f"
            },
            "type": "carpet"
           }
          ],
          "choropleth": [
           {
            "colorbar": {
             "outlinewidth": 0,
             "ticks": ""
            },
            "type": "choropleth"
           }
          ],
          "contour": [
           {
            "colorbar": {
             "outlinewidth": 0,
             "ticks": ""
            },
            "colorscale": [
             [
              0,
              "#0d0887"
             ],
             [
              0.1111111111111111,
              "#46039f"
             ],
             [
              0.2222222222222222,
              "#7201a8"
             ],
             [
              0.3333333333333333,
              "#9c179e"
             ],
             [
              0.4444444444444444,
              "#bd3786"
             ],
             [
              0.5555555555555556,
              "#d8576b"
             ],
             [
              0.6666666666666666,
              "#ed7953"
             ],
             [
              0.7777777777777778,
              "#fb9f3a"
             ],
             [
              0.8888888888888888,
              "#fdca26"
             ],
             [
              1,
              "#f0f921"
             ]
            ],
            "type": "contour"
           }
          ],
          "contourcarpet": [
           {
            "colorbar": {
             "outlinewidth": 0,
             "ticks": ""
            },
            "type": "contourcarpet"
           }
          ],
          "heatmap": [
           {
            "colorbar": {
             "outlinewidth": 0,
             "ticks": ""
            },
            "colorscale": [
             [
              0,
              "#0d0887"
             ],
             [
              0.1111111111111111,
              "#46039f"
             ],
             [
              0.2222222222222222,
              "#7201a8"
             ],
             [
              0.3333333333333333,
              "#9c179e"
             ],
             [
              0.4444444444444444,
              "#bd3786"
             ],
             [
              0.5555555555555556,
              "#d8576b"
             ],
             [
              0.6666666666666666,
              "#ed7953"
             ],
             [
              0.7777777777777778,
              "#fb9f3a"
             ],
             [
              0.8888888888888888,
              "#fdca26"
             ],
             [
              1,
              "#f0f921"
             ]
            ],
            "type": "heatmap"
           }
          ],
          "heatmapgl": [
           {
            "colorbar": {
             "outlinewidth": 0,
             "ticks": ""
            },
            "colorscale": [
             [
              0,
              "#0d0887"
             ],
             [
              0.1111111111111111,
              "#46039f"
             ],
             [
              0.2222222222222222,
              "#7201a8"
             ],
             [
              0.3333333333333333,
              "#9c179e"
             ],
             [
              0.4444444444444444,
              "#bd3786"
             ],
             [
              0.5555555555555556,
              "#d8576b"
             ],
             [
              0.6666666666666666,
              "#ed7953"
             ],
             [
              0.7777777777777778,
              "#fb9f3a"
             ],
             [
              0.8888888888888888,
              "#fdca26"
             ],
             [
              1,
              "#f0f921"
             ]
            ],
            "type": "heatmapgl"
           }
          ],
          "histogram": [
           {
            "marker": {
             "colorbar": {
              "outlinewidth": 0,
              "ticks": ""
             }
            },
            "type": "histogram"
           }
          ],
          "histogram2d": [
           {
            "colorbar": {
             "outlinewidth": 0,
             "ticks": ""
            },
            "colorscale": [
             [
              0,
              "#0d0887"
             ],
             [
              0.1111111111111111,
              "#46039f"
             ],
             [
              0.2222222222222222,
              "#7201a8"
             ],
             [
              0.3333333333333333,
              "#9c179e"
             ],
             [
              0.4444444444444444,
              "#bd3786"
             ],
             [
              0.5555555555555556,
              "#d8576b"
             ],
             [
              0.6666666666666666,
              "#ed7953"
             ],
             [
              0.7777777777777778,
              "#fb9f3a"
             ],
             [
              0.8888888888888888,
              "#fdca26"
             ],
             [
              1,
              "#f0f921"
             ]
            ],
            "type": "histogram2d"
           }
          ],
          "histogram2dcontour": [
           {
            "colorbar": {
             "outlinewidth": 0,
             "ticks": ""
            },
            "colorscale": [
             [
              0,
              "#0d0887"
             ],
             [
              0.1111111111111111,
              "#46039f"
             ],
             [
              0.2222222222222222,
              "#7201a8"
             ],
             [
              0.3333333333333333,
              "#9c179e"
             ],
             [
              0.4444444444444444,
              "#bd3786"
             ],
             [
              0.5555555555555556,
              "#d8576b"
             ],
             [
              0.6666666666666666,
              "#ed7953"
             ],
             [
              0.7777777777777778,
              "#fb9f3a"
             ],
             [
              0.8888888888888888,
              "#fdca26"
             ],
             [
              1,
              "#f0f921"
             ]
            ],
            "type": "histogram2dcontour"
           }
          ],
          "mesh3d": [
           {
            "colorbar": {
             "outlinewidth": 0,
             "ticks": ""
            },
            "type": "mesh3d"
           }
          ],
          "parcoords": [
           {
            "line": {
             "colorbar": {
              "outlinewidth": 0,
              "ticks": ""
             }
            },
            "type": "parcoords"
           }
          ],
          "pie": [
           {
            "automargin": true,
            "type": "pie"
           }
          ],
          "scatter": [
           {
            "marker": {
             "colorbar": {
              "outlinewidth": 0,
              "ticks": ""
             }
            },
            "type": "scatter"
           }
          ],
          "scatter3d": [
           {
            "line": {
             "colorbar": {
              "outlinewidth": 0,
              "ticks": ""
             }
            },
            "marker": {
             "colorbar": {
              "outlinewidth": 0,
              "ticks": ""
             }
            },
            "type": "scatter3d"
           }
          ],
          "scattercarpet": [
           {
            "marker": {
             "colorbar": {
              "outlinewidth": 0,
              "ticks": ""
             }
            },
            "type": "scattercarpet"
           }
          ],
          "scattergeo": [
           {
            "marker": {
             "colorbar": {
              "outlinewidth": 0,
              "ticks": ""
             }
            },
            "type": "scattergeo"
           }
          ],
          "scattergl": [
           {
            "marker": {
             "colorbar": {
              "outlinewidth": 0,
              "ticks": ""
             }
            },
            "type": "scattergl"
           }
          ],
          "scattermapbox": [
           {
            "marker": {
             "colorbar": {
              "outlinewidth": 0,
              "ticks": ""
             }
            },
            "type": "scattermapbox"
           }
          ],
          "scatterpolar": [
           {
            "marker": {
             "colorbar": {
              "outlinewidth": 0,
              "ticks": ""
             }
            },
            "type": "scatterpolar"
           }
          ],
          "scatterpolargl": [
           {
            "marker": {
             "colorbar": {
              "outlinewidth": 0,
              "ticks": ""
             }
            },
            "type": "scatterpolargl"
           }
          ],
          "scatterternary": [
           {
            "marker": {
             "colorbar": {
              "outlinewidth": 0,
              "ticks": ""
             }
            },
            "type": "scatterternary"
           }
          ],
          "surface": [
           {
            "colorbar": {
             "outlinewidth": 0,
             "ticks": ""
            },
            "colorscale": [
             [
              0,
              "#0d0887"
             ],
             [
              0.1111111111111111,
              "#46039f"
             ],
             [
              0.2222222222222222,
              "#7201a8"
             ],
             [
              0.3333333333333333,
              "#9c179e"
             ],
             [
              0.4444444444444444,
              "#bd3786"
             ],
             [
              0.5555555555555556,
              "#d8576b"
             ],
             [
              0.6666666666666666,
              "#ed7953"
             ],
             [
              0.7777777777777778,
              "#fb9f3a"
             ],
             [
              0.8888888888888888,
              "#fdca26"
             ],
             [
              1,
              "#f0f921"
             ]
            ],
            "type": "surface"
           }
          ],
          "table": [
           {
            "cells": {
             "fill": {
              "color": "#EBF0F8"
             },
             "line": {
              "color": "white"
             }
            },
            "header": {
             "fill": {
              "color": "#C8D4E3"
             },
             "line": {
              "color": "white"
             }
            },
            "type": "table"
           }
          ]
         },
         "layout": {
          "annotationdefaults": {
           "arrowcolor": "#2a3f5f",
           "arrowhead": 0,
           "arrowwidth": 1
          },
          "autotypenumbers": "strict",
          "coloraxis": {
           "colorbar": {
            "outlinewidth": 0,
            "ticks": ""
           }
          },
          "colorscale": {
           "diverging": [
            [
             0,
             "#8e0152"
            ],
            [
             0.1,
             "#c51b7d"
            ],
            [
             0.2,
             "#de77ae"
            ],
            [
             0.3,
             "#f1b6da"
            ],
            [
             0.4,
             "#fde0ef"
            ],
            [
             0.5,
             "#f7f7f7"
            ],
            [
             0.6,
             "#e6f5d0"
            ],
            [
             0.7,
             "#b8e186"
            ],
            [
             0.8,
             "#7fbc41"
            ],
            [
             0.9,
             "#4d9221"
            ],
            [
             1,
             "#276419"
            ]
           ],
           "sequential": [
            [
             0,
             "#0d0887"
            ],
            [
             0.1111111111111111,
             "#46039f"
            ],
            [
             0.2222222222222222,
             "#7201a8"
            ],
            [
             0.3333333333333333,
             "#9c179e"
            ],
            [
             0.4444444444444444,
             "#bd3786"
            ],
            [
             0.5555555555555556,
             "#d8576b"
            ],
            [
             0.6666666666666666,
             "#ed7953"
            ],
            [
             0.7777777777777778,
             "#fb9f3a"
            ],
            [
             0.8888888888888888,
             "#fdca26"
            ],
            [
             1,
             "#f0f921"
            ]
           ],
           "sequentialminus": [
            [
             0,
             "#0d0887"
            ],
            [
             0.1111111111111111,
             "#46039f"
            ],
            [
             0.2222222222222222,
             "#7201a8"
            ],
            [
             0.3333333333333333,
             "#9c179e"
            ],
            [
             0.4444444444444444,
             "#bd3786"
            ],
            [
             0.5555555555555556,
             "#d8576b"
            ],
            [
             0.6666666666666666,
             "#ed7953"
            ],
            [
             0.7777777777777778,
             "#fb9f3a"
            ],
            [
             0.8888888888888888,
             "#fdca26"
            ],
            [
             1,
             "#f0f921"
            ]
           ]
          },
          "colorway": [
           "#636efa",
           "#EF553B",
           "#00cc96",
           "#ab63fa",
           "#FFA15A",
           "#19d3f3",
           "#FF6692",
           "#B6E880",
           "#FF97FF",
           "#FECB52"
          ],
          "font": {
           "color": "#2a3f5f"
          },
          "geo": {
           "bgcolor": "white",
           "lakecolor": "white",
           "landcolor": "#E5ECF6",
           "showlakes": true,
           "showland": true,
           "subunitcolor": "white"
          },
          "hoverlabel": {
           "align": "left"
          },
          "hovermode": "closest",
          "mapbox": {
           "style": "light"
          },
          "paper_bgcolor": "white",
          "plot_bgcolor": "#E5ECF6",
          "polar": {
           "angularaxis": {
            "gridcolor": "white",
            "linecolor": "white",
            "ticks": ""
           },
           "bgcolor": "#E5ECF6",
           "radialaxis": {
            "gridcolor": "white",
            "linecolor": "white",
            "ticks": ""
           }
          },
          "scene": {
           "xaxis": {
            "backgroundcolor": "#E5ECF6",
            "gridcolor": "white",
            "gridwidth": 2,
            "linecolor": "white",
            "showbackground": true,
            "ticks": "",
            "zerolinecolor": "white"
           },
           "yaxis": {
            "backgroundcolor": "#E5ECF6",
            "gridcolor": "white",
            "gridwidth": 2,
            "linecolor": "white",
            "showbackground": true,
            "ticks": "",
            "zerolinecolor": "white"
           },
           "zaxis": {
            "backgroundcolor": "#E5ECF6",
            "gridcolor": "white",
            "gridwidth": 2,
            "linecolor": "white",
            "showbackground": true,
            "ticks": "",
            "zerolinecolor": "white"
           }
          },
          "shapedefaults": {
           "line": {
            "color": "#2a3f5f"
           }
          },
          "ternary": {
           "aaxis": {
            "gridcolor": "white",
            "linecolor": "white",
            "ticks": ""
           },
           "baxis": {
            "gridcolor": "white",
            "linecolor": "white",
            "ticks": ""
           },
           "bgcolor": "#E5ECF6",
           "caxis": {
            "gridcolor": "white",
            "linecolor": "white",
            "ticks": ""
           }
          },
          "title": {
           "x": 0.05
          },
          "xaxis": {
           "automargin": true,
           "gridcolor": "white",
           "linecolor": "white",
           "ticks": "",
           "title": {
            "standoff": 15
           },
           "zerolinecolor": "white",
           "zerolinewidth": 2
          },
          "yaxis": {
           "automargin": true,
           "gridcolor": "white",
           "linecolor": "white",
           "ticks": "",
           "title": {
            "standoff": 15
           },
           "zerolinecolor": "white",
           "zerolinewidth": 2
          }
         }
        },
        "xaxis": {
         "anchor": "y",
         "domain": [
          0,
          1
         ],
         "title": {
          "text": "BedroomAbvGr"
         }
        },
        "yaxis": {
         "anchor": "x",
         "domain": [
          0,
          1
         ],
         "title": {
          "text": "SalePrice"
         }
        }
       }
      },
      "text/html": [
       "<div>                            <div id=\"cbb0dad2-0d22-4661-834e-bc8d76e83055\" class=\"plotly-graph-div\" style=\"height:525px; width:100%;\"></div>            <script type=\"text/javascript\">                require([\"plotly\"], function(Plotly) {                    window.PLOTLYENV=window.PLOTLYENV || {};                                    if (document.getElementById(\"cbb0dad2-0d22-4661-834e-bc8d76e83055\")) {                    Plotly.newPlot(                        \"cbb0dad2-0d22-4661-834e-bc8d76e83055\",                        [{\"hovertemplate\": \"Neighborhood=CollgCr<br>BedroomAbvGr=%{x}<br>SalePrice=%{y}<extra></extra>\", \"legendgroup\": \"CollgCr\", \"marker\": {\"color\": \"#636efa\", \"symbol\": \"circle\"}, \"mode\": \"markers\", \"name\": \"CollgCr\", \"showlegend\": true, \"type\": \"scattergl\", \"x\": [3, 3, 3, 3, 3, 3, 3, 3, 2, 3, 3, 3, 3, 3, 3, 4, 3, 3, 3, 3, 3, 3, 3, 3, 1, 3, 3, 3, 2, 3, 3, 3, 3, 3, 3, 3, 4, 3, 3, 3, 3, 3, 4, 2, 3, 3, 2, 3, 2, 3, 4, 3, 3, 3, 3, 3, 3, 3, 1, 3, 3, 3, 3, 3, 2, 3, 3, 1, 3, 3, 1, 2, 3, 3, 3, 3, 3, 3, 3, 3, 1, 3, 3, 3, 3, 3, 1, 3, 3, 3, 3, 3, 3, 3, 3, 2, 3, 2, 4, 3, 2, 3, 3, 2, 3, 3, 3, 3, 3, 3, 2, 1, 3, 3, 3, 3, 4, 3, 3, 3, 3, 3, 3, 4, 3, 3, 3, 3, 3, 3, 3, 3, 3, 3, 3, 3, 3, 3, 3, 1, 3, 3, 3, 2, 2, 3, 1, 1, 3, 3], \"xaxis\": \"x\", \"y\": [208500, 223500, 279500, 230000, 179900, 145000, 130250, 196500, 124900, 219500, 226000, 123600, 204750, 214000, 198900, 383970, 163990, 230000, 231500, 260000, 204000, 122000, 192000, 127000, 149000, 156000, 161750, 210000, 204900, 128200, 185500, 180000, 220000, 231500, 276000, 233230, 267000, 205000, 149900, 305900, 214000, 177500, 219500, 148000, 213500, 191000, 123000, 164990, 195400, 212000, 210000, 124000, 208900, 297000, 211000, 188000, 272000, 185900, 140000, 110000, 221000, 152000, 313000, 261500, 191000, 173500, 285000, 141000, 213000, 128500, 143000, 194500, 222500, 190000, 217000, 212000, 216837, 221500, 187100, 189000, 144500, 224900, 183000, 237000, 144000, 133500, 131500, 147000, 200500, 136500, 143500, 236500, 190000, 239799, 192500, 133900, 185000, 239000, 255900, 173900, 206000, 149900, 203000, 194000, 112500, 230000, 287000, 145000, 200141, 255000, 194000, 155900, 126000, 192000, 176432, 212900, 424870, 245350, 195000, 178000, 197900, 213000, 200000, 195000, 224900, 237000, 227000, 150500, 138000, 203000, 295493, 275000, 132500, 200000, 128500, 228500, 155835, 235000, 193000, 144000, 232000, 274300, 235000, 193879, 133000, 230000, 136500, 149300, 179600, 240000], \"yaxis\": \"y\"}, {\"hovertemplate\": \"Neighborhood=Veenker<br>BedroomAbvGr=%{x}<br>SalePrice=%{y}<extra></extra>\", \"legendgroup\": \"Veenker\", \"marker\": {\"color\": \"#EF553B\", \"symbol\": \"circle\"}, \"mode\": \"markers\", \"name\": \"Veenker\", \"showlegend\": true, \"type\": \"scattergl\", \"x\": [3, 0, 3, 1, 1, 3, 2, 3, 3, 2, 3], \"xaxis\": \"x\", \"y\": [181500, 385000, 162500, 324000, 245500, 165000, 270000, 187000, 218000, 194000, 294000], \"yaxis\": \"y\"}, {\"hovertemplate\": \"Neighborhood=Crawfor<br>BedroomAbvGr=%{x}<br>SalePrice=%{y}<extra></extra>\", \"legendgroup\": \"Crawfor\", \"marker\": {\"color\": \"#00cc96\", \"symbol\": \"circle\"}, \"mode\": \"markers\", \"name\": \"Crawfor\", \"showlegend\": true, \"type\": \"scattergl\", \"x\": [3, 2, 3, 3, 4, 3, 3, 2, 3, 2, 4, 4, 2, 3, 1, 2, 3, 4, 3, 4, 3, 2, 3, 3, 4, 3, 3, 4, 4, 2, 3, 2, 3, 3, 3, 2, 3, 4, 3, 2, 4, 3, 4, 3, 3, 3, 3, 2, 3, 3, 4], \"xaxis\": \"x\", \"y\": [140000, 163500, 217000, 259500, 200100, 315000, 311500, 235000, 158500, 157000, 177000, 239000, 90350, 188700, 289000, 96500, 234000, 200624, 217500, 359100, 149000, 137500, 257500, 222000, 164000, 189950, 250000, 145000, 145000, 160000, 165000, 119750, 220000, 219500, 174500, 230000, 224000, 239000, 154900, 392500, 138887, 230000, 381000, 139000, 177500, 335000, 177000, 275000, 223000, 191000, 266500], \"yaxis\": \"y\"}, {\"hovertemplate\": \"Neighborhood=NoRidge<br>BedroomAbvGr=%{x}<br>SalePrice=%{y}<extra></extra>\", \"legendgroup\": \"NoRidge\", \"marker\": {\"color\": \"#ab63fa\", \"symbol\": \"circle\"}, \"mode\": \"markers\", \"name\": \"NoRidge\", \"showlegend\": true, \"type\": \"scattergl\", \"x\": [4, 4, 4, 4, 4, 4, 3, 4, 4, 4, 3, 3, 4, 4, 2, 4, 4, 4, 3, 3, 4, 3, 3, 4, 3, 5, 3, 3, 4, 4, 4, 2, 2, 4, 4, 4, 3, 4, 2, 3, 3], \"xaxis\": \"x\", \"y\": [250000, 260000, 290000, 403000, 290000, 260000, 280000, 258000, 315000, 430000, 265000, 315750, 248000, 268000, 350000, 402000, 221000, 755000, 341000, 260400, 290000, 337000, 269790, 336000, 348000, 310000, 248000, 325000, 625000, 285000, 745000, 262000, 301500, 290000, 302000, 333168, 190000, 410000, 466500, 340000, 271000], \"yaxis\": \"y\"}, {\"hovertemplate\": \"Neighborhood=Mitchel<br>BedroomAbvGr=%{x}<br>SalePrice=%{y}<extra></extra>\", \"legendgroup\": \"Mitchel\", \"marker\": {\"color\": \"#FFA15A\", \"symbol\": \"circle\"}, \"mode\": \"markers\", \"name\": \"Mitchel\", \"showlegend\": true, \"type\": \"scattergl\", \"x\": [1, 1, 2, 2, 5, 3, 3, 2, 3, 3, 2, 3, 2, 2, 4, 2, 3, 2, 2, 2, 3, 4, 2, 2, 1, 3, 3, 3, 2, 4, 4, 4, 4, 3, 3, 3, 2, 3, 3, 3, 2, 3, 3, 4, 3, 3, 3, 3, 3], \"xaxis\": \"x\", \"y\": [143000, 239686, 129500, 153500, 171000, 173000, 171500, 124500, 201000, 142500, 156000, 215000, 206300, 113000, 188000, 164000, 134000, 129500, 170000, 138000, 147000, 160000, 162000, 135000, 165500, 146800, 271000, 132250, 131000, 150900, 143000, 172000, 126000, 240000, 115000, 93500, 196000, 171000, 119500, 168000, 165000, 169900, 130000, 139000, 130500, 112000, 160000, 157900, 84500], \"yaxis\": \"y\"}, {\"hovertemplate\": \"Neighborhood=Somerst<br>BedroomAbvGr=%{x}<br>SalePrice=%{y}<extra></extra>\", \"legendgroup\": \"Somerst\", \"marker\": {\"color\": \"#19d3f3\", \"symbol\": \"circle\"}, \"mode\": \"markers\", \"name\": \"Somerst\", \"showlegend\": true, \"type\": \"scattergl\", \"x\": [3, 3, 3, 3, 2, 3, 2, 3, 3, 3, 3, 3, 3, 3, 2, 3, 2, 3, 3, 4, 2, 2, 3, 2, 3, 3, 3, 2, 3, 4, 2, 2, 2, 3, 2, 3, 1, 3, 2, 2, 3, 3, 3, 2, 3, 3, 3, 2, 2, 3, 4, 2, 3, 2, 3, 3, 3, 3, 3, 1, 3, 3, 3, 1, 2, 3, 2, 2, 3, 3, 4, 3, 3, 3, 3, 2, 2, 3, 3, 2, 3, 3, 3, 3, 3, 2], \"xaxis\": \"x\", \"y\": [307000, 249700, 172500, 245000, 164500, 250000, 176000, 254900, 177000, 311872, 252678, 262500, 207500, 266000, 185000, 244600, 164700, 239000, 270000, 340000, 187750, 241000, 339750, 222000, 210000, 263435, 226700, 208300, 176000, 263000, 146000, 151000, 168500, 226000, 370878, 205950, 423000, 227875, 148800, 196000, 172500, 179400, 215200, 264132, 225000, 227680, 232600, 147400, 151000, 250580, 303477, 328900, 255000, 173733, 320000, 253000, 155000, 182000, 165000, 199900, 197000, 232000, 252000, 197000, 160000, 235128, 171900, 174000, 290000, 229456, 214000, 248328, 186500, 183900, 232000, 208900, 147000, 227000, 177500, 144152, 216000, 250000, 282922, 310000, 287090, 185000], \"yaxis\": \"y\"}, {\"hovertemplate\": \"Neighborhood=NWAmes<br>BedroomAbvGr=%{x}<br>SalePrice=%{y}<extra></extra>\", \"legendgroup\": \"NWAmes\", \"marker\": {\"color\": \"#FF6692\", \"symbol\": \"circle\"}, \"mode\": \"markers\", \"name\": \"NWAmes\", \"showlegend\": true, \"type\": \"scattergl\", \"x\": [3, 3, 3, 3, 3, 4, 3, 3, 3, 3, 3, 4, 3, 3, 3, 3, 3, 3, 3, 3, 3, 4, 3, 4, 4, 3, 4, 3, 3, 3, 3, 4, 3, 3, 3, 3, 4, 3, 3, 4, 3, 4, 4, 2, 4, 3, 4, 4, 3, 4, 3, 3, 4, 4, 4, 3, 3, 3, 3, 3, 3, 3, 4, 2, 4, 3, 4, 5, 3, 3, 3, 3, 3], \"xaxis\": \"x\", \"y\": [200000, 205000, 190000, 181000, 174000, 190000, 179900, 241500, 175500, 235000, 175000, 260000, 187500, 202500, 190000, 215000, 175500, 190000, 175000, 158000, 213250, 229000, 148000, 240000, 165150, 82500, 152000, 197900, 140000, 165000, 157000, 299800, 196500, 161500, 181000, 152000, 250000, 207500, 175000, 176000, 197500, 272000, 195000, 185000, 136905, 227000, 173000, 278000, 180000, 154000, 145000, 157000, 205000, 197500, 185000, 153500, 170000, 178000, 185750, 162000, 197900, 143000, 162900, 167900, 135000, 262500, 170000, 250000, 215000, 179900, 182900, 197000, 210000], \"yaxis\": \"y\"}, {\"hovertemplate\": \"Neighborhood=OldTown<br>BedroomAbvGr=%{x}<br>SalePrice=%{y}<extra></extra>\", \"legendgroup\": \"OldTown\", \"marker\": {\"color\": \"#B6E880\", \"symbol\": \"circle\"}, \"mode\": \"markers\", \"name\": \"OldTown\", \"showlegend\": true, \"type\": \"scattergl\", \"x\": [2, 2, 3, 2, 3, 2, 4, 2, 2, 3, 4, 1, 3, 2, 2, 3, 4, 3, 5, 2, 2, 3, 2, 3, 4, 2, 3, 2, 3, 3, 3, 3, 2, 2, 2, 3, 4, 2, 2, 2, 4, 3, 2, 4, 3, 2, 4, 3, 3, 2, 3, 4, 3, 3, 3, 0, 3, 4, 2, 2, 4, 3, 2, 2, 4, 3, 3, 4, 2, 2, 2, 2, 3, 4, 3, 2, 2, 2, 4, 2, 2, 2, 5, 2, 3, 2, 2, 5, 2, 3, 3, 2, 3, 3, 3, 3, 4, 4, 2, 5, 2, 2, 4, 2, 4, 5, 3, 3, 3, 4, 2, 4, 2], \"xaxis\": \"x\", \"y\": [129900, 113000, 140000, 80000, 107400, 110000, 133900, 100000, 115000, 87000, 125000, 103200, 152000, 128500, 100000, 200000, 475000, 135000, 104000, 112000, 110000, 107000, 110500, 79000, 137000, 97000, 130000, 73000, 295000, 119900, 178000, 126175, 105900, 109000, 115000, 135000, 79900, 116000, 120000, 110000, 98000, 161000, 89471, 155000, 160000, 91300, 124500, 161000, 106250, 125000, 112500, 131500, 325000, 114504, 124000, 144000, 93000, 87000, 109500, 108480, 140000, 159500, 163000, 132000, 265979, 96500, 128000, 139000, 107900, 106000, 93000, 153500, 157500, 153900, 66500, 124900, 37900, 117000, 168000, 86000, 85000, 87000, 90000, 110500, 170000, 117000, 140000, 117500, 116900, 143000, 115000, 120000, 95000, 125000, 144000, 129500, 122000, 107500, 147000, 256000, 52500, 108500, 122000, 105000, 157000, 136000, 163000, 105000, 125500, 122500, 119000, 64500, 149700], \"yaxis\": \"y\"}, {\"hovertemplate\": \"Neighborhood=BrkSide<br>BedroomAbvGr=%{x}<br>SalePrice=%{y}<extra></extra>\", \"legendgroup\": \"BrkSide\", \"marker\": {\"color\": \"#FF97FF\", \"symbol\": \"circle\"}, \"mode\": \"markers\", \"name\": \"BrkSide\", \"showlegend\": true, \"type\": \"scattergl\", \"x\": [2, 2, 1, 3, 2, 2, 3, 3, 3, 3, 3, 5, 3, 3, 2, 2, 3, 3, 4, 3, 3, 1, 3, 2, 3, 2, 2, 1, 3, 2, 2, 3, 2, 3, 2, 3, 1, 2, 3, 2, 3, 3, 2, 3, 3, 3, 2, 3, 3, 4, 2, 2, 2, 3, 4, 3, 4, 2], \"xaxis\": \"x\", \"y\": [118000, 132000, 68500, 114500, 127000, 105000, 115000, 127000, 76500, 205000, 153575, 214500, 140200, 145000, 100000, 119000, 162900, 110000, 184000, 159000, 128000, 39300, 210000, 113000, 133000, 130000, 79500, 60000, 141500, 89000, 52000, 129000, 100000, 223500, 109500, 88000, 79900, 116500, 167500, 85500, 121600, 128000, 102000, 144000, 149000, 117000, 80500, 127500, 180500, 132500, 72500, 82500, 134900, 131000, 137500, 120000, 207000, 121000], \"yaxis\": \"y\"}, {\"hovertemplate\": \"Neighborhood=Sawyer<br>BedroomAbvGr=%{x}<br>SalePrice=%{y}<extra></extra>\", \"legendgroup\": \"Sawyer\", \"marker\": {\"color\": \"#FECB52\", \"symbol\": \"circle\"}, \"mode\": \"markers\", \"name\": \"Sawyer\", \"showlegend\": true, \"type\": \"scattergl\", \"x\": [3, 2, 2, 3, 3, 3, 4, 3, 3, 6, 4, 3, 3, 3, 3, 2, 3, 3, 3, 2, 3, 3, 3, 3, 3, 2, 3, 3, 3, 3, 3, 3, 3, 3, 3, 3, 3, 3, 2, 3, 3, 2, 3, 3, 3, 3, 3, 3, 3, 3, 3, 3, 3, 3, 3, 4, 3, 3, 3, 3, 2, 3, 3, 0, 4, 3, 0, 3, 4, 3, 4, 3, 3, 3], \"xaxis\": \"x\", \"y\": [129500, 144000, 90000, 154000, 149350, 127000, 136500, 139000, 180000, 125000, 172500, 143900, 125000, 151000, 122000, 108000, 150000, 149500, 62383, 132500, 132500, 130000, 158000, 121500, 164500, 137000, 118500, 135000, 168000, 128500, 138500, 109900, 130500, 131400, 108000, 142000, 175000, 158900, 134900, 142500, 143500, 128000, 171000, 170000, 127000, 131500, 129000, 148000, 172500, 154500, 165000, 135000, 125500, 132000, 139000, 135000, 155000, 133000, 130000, 140000, 94000, 80000, 129000, 108959, 158000, 148000, 145000, 125000, 112000, 134000, 190000, 137000, 112000, 129000], \"yaxis\": \"y\"}, {\"hovertemplate\": \"Neighborhood=NridgHt<br>BedroomAbvGr=%{x}<br>SalePrice=%{y}<extra></extra>\", \"legendgroup\": \"NridgHt\", \"marker\": {\"color\": \"#636efa\", \"symbol\": \"circle\"}, \"mode\": \"markers\", \"name\": \"NridgHt\", \"showlegend\": true, \"type\": \"scattergl\", \"x\": [4, 4, 3, 3, 2, 4, 2, 2, 4, 2, 3, 3, 3, 3, 3, 3, 3, 2, 3, 4, 4, 3, 2, 2, 2, 4, 2, 3, 3, 2, 3, 2, 3, 3, 2, 2, 3, 3, 3, 3, 3, 3, 3, 3, 3, 2, 1, 2, 2, 3, 3, 4, 4, 2, 2, 4, 2, 4, 2, 3, 3, 1, 2, 3, 3, 3, 2, 3, 1, 2, 2, 2, 3, 2, 2, 3, 2], \"xaxis\": \"x\", \"y\": [345000, 325300, 256300, 306000, 277500, 309000, 319900, 202500, 317000, 372402, 412500, 220000, 325624, 274900, 386250, 318000, 415298, 207500, 360000, 342643, 354000, 284000, 207000, 266000, 154000, 437154, 318061, 426000, 280000, 555000, 250000, 440000, 380000, 326000, 374000, 202665, 402861, 446261, 255500, 284000, 214000, 253293, 451950, 275000, 314813, 209500, 274000, 194700, 254000, 275500, 395000, 485000, 582933, 224000, 385000, 350000, 611657, 285000, 173000, 395192, 337500, 196000, 185850, 335000, 280000, 318000, 230000, 233170, 367294, 175500, 465000, 171750, 281000, 325000, 202500, 315000, 394617], \"yaxis\": \"y\"}, {\"hovertemplate\": \"Neighborhood=NAmes<br>BedroomAbvGr=%{x}<br>SalePrice=%{y}<extra></extra>\", \"legendgroup\": \"NAmes\", \"marker\": {\"color\": \"#EF553B\", \"symbol\": \"circle\"}, \"mode\": \"markers\", \"name\": \"NAmes\", \"showlegend\": true, \"type\": \"scattergl\", \"x\": [2, 2, 3, 3, 2, 4, 3, 3, 3, 3, 3, 3, 3, 3, 3, 2, 4, 3, 2, 2, 3, 3, 3, 3, 4, 3, 3, 3, 4, 2, 3, 3, 4, 4, 3, 3, 2, 2, 3, 2, 3, 3, 3, 3, 3, 3, 3, 2, 5, 3, 6, 3, 3, 2, 2, 3, 3, 3, 2, 3, 3, 3, 4, 3, 2, 3, 2, 2, 3, 3, 3, 3, 3, 2, 3, 2, 3, 3, 2, 2, 3, 1, 2, 2, 6, 2, 3, 2, 3, 3, 3, 2, 3, 3, 3, 5, 3, 3, 4, 3, 3, 4, 3, 3, 2, 3, 3, 3, 3, 4, 2, 3, 2, 2, 2, 2, 3, 3, 4, 2, 3, 3, 3, 3, 6, 3, 3, 3, 2, 3, 3, 3, 4, 4, 2, 3, 4, 2, 2, 3, 5, 3, 2, 4, 3, 3, 3, 2, 4, 3, 3, 3, 3, 2, 3, 3, 4, 3, 4, 2, 3, 3, 3, 2, 1, 2, 3, 2, 3, 2, 2, 3, 2, 3, 2, 2, 4, 3, 3, 3, 3, 3, 2, 3, 4, 3, 2, 4, 3, 2, 3, 3, 3, 3, 2, 2, 3, 4, 3, 3, 3, 3, 4, 3, 3, 6, 4, 3, 3, 4, 3, 4, 4, 3, 3, 3, 2, 3, 2, 3, 3, 3, 3, 4, 2], \"xaxis\": \"x\", \"y\": [157000, 149000, 139000, 134800, 207500, 165500, 153000, 109000, 160000, 141000, 130000, 180500, 180000, 244000, 144900, 135750, 193500, 126500, 109900, 98600, 128950, 136000, 155000, 150000, 226000, 150750, 143000, 115000, 166000, 109500, 215000, 163000, 184000, 235000, 141000, 145000, 134450, 97000, 148000, 140000, 158000, 145000, 176000, 139000, 159000, 88000, 167000, 132000, 242000, 145250, 119000, 139000, 155000, 87500, 151500, 157500, 159000, 165000, 132000, 162000, 123000, 106500, 169500, 142000, 139000, 109008, 190000, 167000, 146500, 147000, 156000, 133000, 155000, 120000, 124500, 164900, 129900, 150000, 132000, 107500, 111250, 133000, 141000, 135960, 142600, 120000, 139000, 118500, 181900, 205000, 137500, 105500, 160000, 139900, 153000, 135000, 168500, 139400, 345000, 143250, 98300, 155000, 145500, 97500, 110000, 129000, 140000, 124500, 120500, 110000, 93500, 156000, 127500, 114500, 110000, 118000, 135500, 159950, 157900, 137000, 166000, 167000, 139950, 174900, 141000, 158000, 132500, 148500, 109500, 116000, 133000, 100000, 145000, 268000, 149500, 122900, 140000, 110000, 153000, 128000, 154300, 176500, 117500, 242000, 143000, 129000, 135000, 140000, 135000, 178400, 187000, 136500, 163500, 119200, 167500, 105000, 165000, 154000, 167900, 135000, 135000, 138800, 160000, 92900, 146000, 129000, 119500, 135000, 159500, 129900, 134500, 133700, 115000, 119000, 139000, 124000, 201800, 179900, 163000, 116050, 140000, 134500, 115000, 143000, 137900, 145000, 147000, 127000, 132500, 101800, 142000, 119000, 244000, 151000, 128900, 181000, 144000, 137000, 180500, 138500, 155000, 154000, 206900, 156500, 123000, 200000, 171000, 110000, 149900, 104900, 165500, 237500, 124000, 123000, 138000, 140000, 90000, 124000, 144000, 142000, 140000, 174000, 120500, 136000, 142125], \"yaxis\": \"y\"}, {\"hovertemplate\": \"Neighborhood=SawyerW<br>BedroomAbvGr=%{x}<br>SalePrice=%{y}<extra></extra>\", \"legendgroup\": \"SawyerW\", \"marker\": {\"color\": \"#00cc96\", \"symbol\": \"circle\"}, \"mode\": \"markers\", \"name\": \"SawyerW\", \"showlegend\": true, \"type\": \"scattergl\", \"x\": [3, 2, 3, 3, 4, 5, 2, 3, 2, 3, 3, 3, 3, 3, 3, 2, 4, 4, 2, 2, 2, 3, 2, 3, 3, 1, 3, 3, 2, 3, 4, 3, 4, 3, 3, 3, 3, 3, 4, 6, 4, 3, 2, 2, 3, 2, 4, 2, 3, 3, 3, 3, 2, 3, 3, 3, 3, 3, 2], \"xaxis\": \"x\", \"y\": [159000, 144000, 158000, 178000, 118964, 320000, 153900, 141000, 153337, 277000, 194500, 120000, 205000, 173000, 228500, 179200, 225000, 301000, 82000, 125000, 76000, 228000, 275000, 187000, 215000, 316600, 220000, 193500, 143000, 179000, 144000, 175900, 233000, 171000, 189000, 213000, 152000, 236000, 118858, 142953, 238000, 201000, 193000, 184900, 119900, 99500, 262280, 147000, 179900, 239500, 180000, 271900, 107000, 189000, 142500, 179200, 155000, 215000, 257000], \"yaxis\": \"y\"}, {\"hovertemplate\": \"Neighborhood=IDOTRR<br>BedroomAbvGr=%{x}<br>SalePrice=%{y}<extra></extra>\", \"legendgroup\": \"IDOTRR\", \"marker\": {\"color\": \"#ab63fa\", \"symbol\": \"circle\"}, \"mode\": \"markers\", \"name\": \"IDOTRR\", \"showlegend\": true, \"type\": \"scattergl\", \"x\": [3, 3, 2, 3, 2, 4, 3, 3, 2, 2, 4, 3, 2, 3, 3, 2, 3, 2, 3, 3, 3, 3, 2, 2, 2, 2, 2, 1, 3, 2, 3, 2, 2, 2, 2, 2, 3], \"xaxis\": \"x\", \"y\": [139400, 40000, 110000, 101000, 85000, 169500, 115000, 100000, 84500, 120500, 152000, 89500, 87000, 78000, 147000, 67000, 119500, 34900, 108000, 141000, 135000, 55000, 102776, 103000, 109900, 55993, 106500, 35311, 91000, 81000, 127000, 118400, 120500, 68400, 55000, 125500, 125500], \"yaxis\": \"y\"}, {\"hovertemplate\": \"Neighborhood=MeadowV<br>BedroomAbvGr=%{x}<br>SalePrice=%{y}<extra></extra>\", \"legendgroup\": \"MeadowV\", \"marker\": {\"color\": \"#FFA15A\", \"symbol\": \"circle\"}, \"mode\": \"markers\", \"name\": \"MeadowV\", \"showlegend\": true, \"type\": \"scattergl\", \"x\": [3, 2, 3, 3, 1, 1, 3, 1, 1, 3, 3, 3, 1, 5, 3, 4, 1], \"xaxis\": \"x\", \"y\": [129900, 91000, 85000, 134000, 81000, 86000, 115000, 75500, 84500, 75000, 88000, 97000, 80000, 151400, 83500, 127000, 92000], \"yaxis\": \"y\"}, {\"hovertemplate\": \"Neighborhood=Edwards<br>BedroomAbvGr=%{x}<br>SalePrice=%{y}<extra></extra>\", \"legendgroup\": \"Edwards\", \"marker\": {\"color\": \"#19d3f3\", \"symbol\": \"circle\"}, \"mode\": \"markers\", \"name\": \"Edwards\", \"showlegend\": true, \"type\": \"scattergl\", \"x\": [2, 3, 2, 4, 2, 3, 2, 4, 4, 3, 3, 2, 2, 3, 3, 3, 3, 1, 3, 4, 1, 5, 3, 4, 3, 3, 3, 3, 4, 3, 2, 2, 3, 2, 3, 2, 3, 4, 3, 3, 2, 2, 3, 4, 3, 3, 3, 2, 4, 3, 3, 4, 2, 3, 3, 3, 2, 3, 3, 4, 4, 4, 3, 3, 2, 4, 2, 3, 4, 2, 4, 4, 3, 3, 3, 2, 2, 3, 4, 3, 4, 2, 3, 2, 2, 2, 2, 3, 3, 3, 3, 3, 2, 3, 2, 2, 4, 2, 2, 3], \"xaxis\": \"x\", \"y\": [82000, 94750, 83000, 136900, 155000, 130000, 79000, 127500, 243000, 120000, 130000, 140000, 98000, 186000, 113000, 148000, 131000, 82500, 95000, 198500, 61000, 81000, 125000, 119000, 129000, 60000, 126000, 110000, 118000, 127500, 148000, 140000, 184750, 86000, 107500, 108000, 108000, 185000, 118500, 225000, 67000, 85000, 155000, 108000, 167000, 137500, 103600, 123500, 135000, 320000, 179000, 98000, 102000, 107000, 116000, 130500, 157000, 135500, 135000, 145900, 150000, 127500, 110000, 125000, 82000, 100000, 176000, 84000, 139600, 84900, 144500, 91500, 159500, 137500, 112000, 118000, 80000, 149900, 235000, 93000, 104900, 113000, 165400, 99900, 177000, 115000, 140000, 160000, 130000, 119000, 111000, 79000, 100000, 117000, 58500, 105000, 274970, 112000, 145000, 147500], \"yaxis\": \"y\"}, {\"hovertemplate\": \"Neighborhood=Timber<br>BedroomAbvGr=%{x}<br>SalePrice=%{y}<extra></extra>\", \"legendgroup\": \"Timber\", \"marker\": {\"color\": \"#FF6692\", \"symbol\": \"circle\"}, \"mode\": \"markers\", \"name\": \"Timber\", \"showlegend\": true, \"type\": \"scattergl\", \"x\": [2, 2, 4, 2, 3, 3, 3, 4, 3, 3, 3, 2, 3, 2, 4, 4, 2, 3, 3, 3, 3, 3, 3, 3, 4, 2, 3, 2, 4, 3, 2, 3, 2, 3, 3, 3, 4, 3], \"xaxis\": \"x\", \"y\": [170000, 220000, 269500, 228000, 184000, 375000, 228950, 202900, 175000, 204000, 175000, 315000, 224500, 369900, 305000, 335000, 176000, 312500, 187500, 248900, 187500, 201000, 137500, 270000, 214900, 287000, 293077, 315500, 250000, 186700, 265900, 378500, 180000, 283463, 239000, 167500, 281213, 160000], \"yaxis\": \"y\"}, {\"hovertemplate\": \"Neighborhood=Gilbert<br>BedroomAbvGr=%{x}<br>SalePrice=%{y}<extra></extra>\", \"legendgroup\": \"Gilbert\", \"marker\": {\"color\": \"#B6E880\", \"symbol\": \"circle\"}, \"mode\": \"markers\", \"name\": \"Gilbert\", \"showlegend\": true, \"type\": \"scattergl\", \"x\": [3, 3, 3, 3, 3, 3, 3, 3, 4, 3, 3, 4, 4, 4, 3, 2, 3, 3, 3, 3, 3, 3, 3, 3, 3, 3, 4, 3, 3, 3, 3, 3, 3, 3, 3, 3, 4, 3, 3, 3, 3, 3, 2, 3, 3, 3, 3, 3, 4, 3, 3, 3, 3, 3, 3, 3, 3, 3, 3, 3, 3, 4, 3, 3, 3, 3, 4, 4, 3, 2, 3, 3, 3, 3, 3, 3, 4, 3, 3], \"xaxis\": \"x\", \"y\": [177000, 185000, 168500, 174000, 185000, 180000, 244000, 222500, 320000, 183500, 180500, 200000, 216500, 230000, 185000, 141000, 165600, 188500, 192000, 173000, 172400, 179000, 168000, 145000, 181134, 181000, 199900, 172785, 178000, 179665, 175000, 170000, 183200, 230500, 179540, 239900, 236000, 162000, 176000, 194500, 225000, 174000, 169000, 178000, 180000, 240000, 174000, 169990, 222000, 214000, 178900, 160000, 176485, 178000, 187500, 274725, 181000, 188000, 184100, 163900, 259000, 215000, 169000, 173000, 189000, 176000, 219210, 164000, 184000, 190000, 181000, 225000, 176500, 156932, 377500, 193000, 192140, 186500, 175000], \"yaxis\": \"y\"}, {\"hovertemplate\": \"Neighborhood=StoneBr<br>BedroomAbvGr=%{x}<br>SalePrice=%{y}<extra></extra>\", \"legendgroup\": \"StoneBr\", \"marker\": {\"color\": \"#FF97FF\", \"symbol\": \"circle\"}, \"mode\": \"markers\", \"name\": \"StoneBr\", \"showlegend\": true, \"type\": \"scattergl\", \"x\": [3, 2, 1, 0, 3, 1, 1, 2, 4, 3, 3, 3, 2, 4, 2, 2, 2, 2, 4, 1, 4, 2, 2, 2, 3], \"xaxis\": \"x\", \"y\": [438780, 239000, 501837, 286000, 377426, 394432, 212000, 251000, 325000, 319000, 372500, 207500, 392000, 361919, 189000, 275000, 236500, 180000, 538000, 187500, 556581, 213500, 170000, 278000, 260000], \"yaxis\": \"y\"}, {\"hovertemplate\": \"Neighborhood=ClearCr<br>BedroomAbvGr=%{x}<br>SalePrice=%{y}<extra></extra>\", \"legendgroup\": \"ClearCr\", \"marker\": {\"color\": \"#FECB52\", \"symbol\": \"circle\"}, \"mode\": \"markers\", \"name\": \"ClearCr\", \"showlegend\": true, \"type\": \"scattergl\", \"x\": [3, 1, 1, 2, 4, 4, 2, 4, 2, 3, 4, 3, 2, 2, 1, 2, 2, 5, 4, 3, 3, 5, 4, 3, 3, 5, 0, 4], \"xaxis\": \"x\", \"y\": [225000, 180000, 235000, 190000, 211000, 277000, 241500, 192000, 190000, 130000, 134432, 240000, 280000, 256000, 143000, 173000, 302000, 187500, 200000, 155000, 185000, 240000, 244400, 328000, 200500, 161500, 260000, 190000], \"yaxis\": \"y\"}, {\"hovertemplate\": \"Neighborhood=NPkVill<br>BedroomAbvGr=%{x}<br>SalePrice=%{y}<extra></extra>\", \"legendgroup\": \"NPkVill\", \"marker\": {\"color\": \"#636efa\", \"symbol\": \"circle\"}, \"mode\": \"markers\", \"name\": \"NPkVill\", \"showlegend\": true, \"type\": \"scattergl\", \"x\": [2, 3, 3, 2, 3, 3, 3, 2, 2], \"xaxis\": \"x\", \"y\": [128000, 148500, 147000, 140000, 148500, 155000, 146000, 127500, 143750], \"yaxis\": \"y\"}, {\"hovertemplate\": \"Neighborhood=Blmngtn<br>BedroomAbvGr=%{x}<br>SalePrice=%{y}<extra></extra>\", \"legendgroup\": \"Blmngtn\", \"marker\": {\"color\": \"#EF553B\", \"symbol\": \"circle\"}, \"mode\": \"markers\", \"name\": \"Blmngtn\", \"showlegend\": true, \"type\": \"scattergl\", \"x\": [2, 2, 2, 2, 2, 2, 2, 1, 2, 2, 2, 1, 2, 2, 2, 2, 1], \"xaxis\": \"x\", \"y\": [167240, 192500, 192000, 172500, 178740, 234000, 194201, 264561, 160200, 215000, 159895, 181000, 213490, 191000, 174000, 246578, 175900], \"yaxis\": \"y\"}, {\"hovertemplate\": \"Neighborhood=BrDale<br>BedroomAbvGr=%{x}<br>SalePrice=%{y}<extra></extra>\", \"legendgroup\": \"BrDale\", \"marker\": {\"color\": \"#00cc96\", \"symbol\": \"circle\"}, \"mode\": \"markers\", \"name\": \"BrDale\", \"showlegend\": true, \"type\": \"scattergl\", \"x\": [3, 2, 2, 2, 2, 2, 2, 3, 3, 2, 3, 3, 3, 3, 3, 2], \"xaxis\": \"x\", \"y\": [112000, 106000, 94500, 89500, 118000, 85400, 122500, 113000, 88000, 100000, 118000, 106000, 91500, 119500, 125000, 83000], \"yaxis\": \"y\"}, {\"hovertemplate\": \"Neighborhood=SWISU<br>BedroomAbvGr=%{x}<br>SalePrice=%{y}<extra></extra>\", \"legendgroup\": \"SWISU\", \"marker\": {\"color\": \"#ab63fa\", \"symbol\": \"circle\"}, \"mode\": \"markers\", \"name\": \"SWISU\", \"showlegend\": true, \"type\": \"scattergl\", \"x\": [4, 6, 2, 3, 3, 3, 4, 3, 8, 3, 3, 3, 4, 5, 4, 5, 5, 4, 1, 4, 4, 4, 4, 2, 3], \"xaxis\": \"x\", \"y\": [179500, 135900, 140000, 127000, 115000, 155000, 128000, 145000, 200000, 159434, 175000, 139500, 140000, 118500, 102000, 160000, 197000, 136500, 60000, 135000, 130000, 169000, 189000, 91000, 137450], \"yaxis\": \"y\"}, {\"hovertemplate\": \"Neighborhood=Blueste<br>BedroomAbvGr=%{x}<br>SalePrice=%{y}<extra></extra>\", \"legendgroup\": \"Blueste\", \"marker\": {\"color\": \"#FFA15A\", \"symbol\": \"circle\"}, \"mode\": \"markers\", \"name\": \"Blueste\", \"showlegend\": true, \"type\": \"scattergl\", \"x\": [3, 2], \"xaxis\": \"x\", \"y\": [151000, 124000], \"yaxis\": \"y\"}],                        {\"legend\": {\"title\": {\"text\": \"Neighborhood\"}, \"tracegroupgap\": 0}, \"margin\": {\"t\": 60}, \"template\": {\"data\": {\"bar\": [{\"error_x\": {\"color\": \"#2a3f5f\"}, \"error_y\": {\"color\": \"#2a3f5f\"}, \"marker\": {\"line\": {\"color\": \"#E5ECF6\", \"width\": 0.5}}, \"type\": \"bar\"}], \"barpolar\": [{\"marker\": {\"line\": {\"color\": \"#E5ECF6\", \"width\": 0.5}}, \"type\": \"barpolar\"}], \"carpet\": [{\"aaxis\": {\"endlinecolor\": \"#2a3f5f\", \"gridcolor\": \"white\", \"linecolor\": \"white\", \"minorgridcolor\": \"white\", \"startlinecolor\": \"#2a3f5f\"}, \"baxis\": {\"endlinecolor\": \"#2a3f5f\", \"gridcolor\": \"white\", \"linecolor\": \"white\", \"minorgridcolor\": \"white\", \"startlinecolor\": \"#2a3f5f\"}, \"type\": \"carpet\"}], \"choropleth\": [{\"colorbar\": {\"outlinewidth\": 0, \"ticks\": \"\"}, \"type\": \"choropleth\"}], \"contour\": [{\"colorbar\": {\"outlinewidth\": 0, \"ticks\": \"\"}, \"colorscale\": [[0.0, \"#0d0887\"], [0.1111111111111111, \"#46039f\"], [0.2222222222222222, \"#7201a8\"], [0.3333333333333333, \"#9c179e\"], [0.4444444444444444, \"#bd3786\"], [0.5555555555555556, \"#d8576b\"], [0.6666666666666666, \"#ed7953\"], [0.7777777777777778, \"#fb9f3a\"], [0.8888888888888888, \"#fdca26\"], [1.0, \"#f0f921\"]], \"type\": \"contour\"}], \"contourcarpet\": [{\"colorbar\": {\"outlinewidth\": 0, \"ticks\": \"\"}, \"type\": \"contourcarpet\"}], \"heatmap\": [{\"colorbar\": {\"outlinewidth\": 0, \"ticks\": \"\"}, \"colorscale\": [[0.0, \"#0d0887\"], [0.1111111111111111, \"#46039f\"], [0.2222222222222222, \"#7201a8\"], [0.3333333333333333, \"#9c179e\"], [0.4444444444444444, \"#bd3786\"], [0.5555555555555556, \"#d8576b\"], [0.6666666666666666, \"#ed7953\"], [0.7777777777777778, \"#fb9f3a\"], [0.8888888888888888, \"#fdca26\"], [1.0, \"#f0f921\"]], \"type\": \"heatmap\"}], \"heatmapgl\": [{\"colorbar\": {\"outlinewidth\": 0, \"ticks\": \"\"}, \"colorscale\": [[0.0, \"#0d0887\"], [0.1111111111111111, \"#46039f\"], [0.2222222222222222, \"#7201a8\"], [0.3333333333333333, \"#9c179e\"], [0.4444444444444444, \"#bd3786\"], [0.5555555555555556, \"#d8576b\"], [0.6666666666666666, \"#ed7953\"], [0.7777777777777778, \"#fb9f3a\"], [0.8888888888888888, \"#fdca26\"], [1.0, \"#f0f921\"]], \"type\": \"heatmapgl\"}], \"histogram\": [{\"marker\": {\"colorbar\": {\"outlinewidth\": 0, \"ticks\": \"\"}}, \"type\": \"histogram\"}], \"histogram2d\": [{\"colorbar\": {\"outlinewidth\": 0, \"ticks\": \"\"}, \"colorscale\": [[0.0, \"#0d0887\"], [0.1111111111111111, \"#46039f\"], [0.2222222222222222, \"#7201a8\"], [0.3333333333333333, \"#9c179e\"], [0.4444444444444444, \"#bd3786\"], [0.5555555555555556, \"#d8576b\"], [0.6666666666666666, \"#ed7953\"], [0.7777777777777778, \"#fb9f3a\"], [0.8888888888888888, \"#fdca26\"], [1.0, \"#f0f921\"]], \"type\": \"histogram2d\"}], \"histogram2dcontour\": [{\"colorbar\": {\"outlinewidth\": 0, \"ticks\": \"\"}, \"colorscale\": [[0.0, \"#0d0887\"], [0.1111111111111111, \"#46039f\"], [0.2222222222222222, \"#7201a8\"], [0.3333333333333333, \"#9c179e\"], [0.4444444444444444, \"#bd3786\"], [0.5555555555555556, \"#d8576b\"], [0.6666666666666666, \"#ed7953\"], [0.7777777777777778, \"#fb9f3a\"], [0.8888888888888888, \"#fdca26\"], [1.0, \"#f0f921\"]], \"type\": \"histogram2dcontour\"}], \"mesh3d\": [{\"colorbar\": {\"outlinewidth\": 0, \"ticks\": \"\"}, \"type\": \"mesh3d\"}], \"parcoords\": [{\"line\": {\"colorbar\": {\"outlinewidth\": 0, \"ticks\": \"\"}}, \"type\": \"parcoords\"}], \"pie\": [{\"automargin\": true, \"type\": \"pie\"}], \"scatter\": [{\"marker\": {\"colorbar\": {\"outlinewidth\": 0, \"ticks\": \"\"}}, \"type\": \"scatter\"}], \"scatter3d\": [{\"line\": {\"colorbar\": {\"outlinewidth\": 0, \"ticks\": \"\"}}, \"marker\": {\"colorbar\": {\"outlinewidth\": 0, \"ticks\": \"\"}}, \"type\": \"scatter3d\"}], \"scattercarpet\": [{\"marker\": {\"colorbar\": {\"outlinewidth\": 0, \"ticks\": \"\"}}, \"type\": \"scattercarpet\"}], \"scattergeo\": [{\"marker\": {\"colorbar\": {\"outlinewidth\": 0, \"ticks\": \"\"}}, \"type\": \"scattergeo\"}], \"scattergl\": [{\"marker\": {\"colorbar\": {\"outlinewidth\": 0, \"ticks\": \"\"}}, \"type\": \"scattergl\"}], \"scattermapbox\": [{\"marker\": {\"colorbar\": {\"outlinewidth\": 0, \"ticks\": \"\"}}, \"type\": \"scattermapbox\"}], \"scatterpolar\": [{\"marker\": {\"colorbar\": {\"outlinewidth\": 0, \"ticks\": \"\"}}, \"type\": \"scatterpolar\"}], \"scatterpolargl\": [{\"marker\": {\"colorbar\": {\"outlinewidth\": 0, \"ticks\": \"\"}}, \"type\": \"scatterpolargl\"}], \"scatterternary\": [{\"marker\": {\"colorbar\": {\"outlinewidth\": 0, \"ticks\": \"\"}}, \"type\": \"scatterternary\"}], \"surface\": [{\"colorbar\": {\"outlinewidth\": 0, \"ticks\": \"\"}, \"colorscale\": [[0.0, \"#0d0887\"], [0.1111111111111111, \"#46039f\"], [0.2222222222222222, \"#7201a8\"], [0.3333333333333333, \"#9c179e\"], [0.4444444444444444, \"#bd3786\"], [0.5555555555555556, \"#d8576b\"], [0.6666666666666666, \"#ed7953\"], [0.7777777777777778, \"#fb9f3a\"], [0.8888888888888888, \"#fdca26\"], [1.0, \"#f0f921\"]], \"type\": \"surface\"}], \"table\": [{\"cells\": {\"fill\": {\"color\": \"#EBF0F8\"}, \"line\": {\"color\": \"white\"}}, \"header\": {\"fill\": {\"color\": \"#C8D4E3\"}, \"line\": {\"color\": \"white\"}}, \"type\": \"table\"}]}, \"layout\": {\"annotationdefaults\": {\"arrowcolor\": \"#2a3f5f\", \"arrowhead\": 0, \"arrowwidth\": 1}, \"autotypenumbers\": \"strict\", \"coloraxis\": {\"colorbar\": {\"outlinewidth\": 0, \"ticks\": \"\"}}, \"colorscale\": {\"diverging\": [[0, \"#8e0152\"], [0.1, \"#c51b7d\"], [0.2, \"#de77ae\"], [0.3, \"#f1b6da\"], [0.4, \"#fde0ef\"], [0.5, \"#f7f7f7\"], [0.6, \"#e6f5d0\"], [0.7, \"#b8e186\"], [0.8, \"#7fbc41\"], [0.9, \"#4d9221\"], [1, \"#276419\"]], \"sequential\": [[0.0, \"#0d0887\"], [0.1111111111111111, \"#46039f\"], [0.2222222222222222, \"#7201a8\"], [0.3333333333333333, \"#9c179e\"], [0.4444444444444444, \"#bd3786\"], [0.5555555555555556, \"#d8576b\"], [0.6666666666666666, \"#ed7953\"], [0.7777777777777778, \"#fb9f3a\"], [0.8888888888888888, \"#fdca26\"], [1.0, \"#f0f921\"]], \"sequentialminus\": [[0.0, \"#0d0887\"], [0.1111111111111111, \"#46039f\"], [0.2222222222222222, \"#7201a8\"], [0.3333333333333333, \"#9c179e\"], [0.4444444444444444, \"#bd3786\"], [0.5555555555555556, \"#d8576b\"], [0.6666666666666666, \"#ed7953\"], [0.7777777777777778, \"#fb9f3a\"], [0.8888888888888888, \"#fdca26\"], [1.0, \"#f0f921\"]]}, \"colorway\": [\"#636efa\", \"#EF553B\", \"#00cc96\", \"#ab63fa\", \"#FFA15A\", \"#19d3f3\", \"#FF6692\", \"#B6E880\", \"#FF97FF\", \"#FECB52\"], \"font\": {\"color\": \"#2a3f5f\"}, \"geo\": {\"bgcolor\": \"white\", \"lakecolor\": \"white\", \"landcolor\": \"#E5ECF6\", \"showlakes\": true, \"showland\": true, \"subunitcolor\": \"white\"}, \"hoverlabel\": {\"align\": \"left\"}, \"hovermode\": \"closest\", \"mapbox\": {\"style\": \"light\"}, \"paper_bgcolor\": \"white\", \"plot_bgcolor\": \"#E5ECF6\", \"polar\": {\"angularaxis\": {\"gridcolor\": \"white\", \"linecolor\": \"white\", \"ticks\": \"\"}, \"bgcolor\": \"#E5ECF6\", \"radialaxis\": {\"gridcolor\": \"white\", \"linecolor\": \"white\", \"ticks\": \"\"}}, \"scene\": {\"xaxis\": {\"backgroundcolor\": \"#E5ECF6\", \"gridcolor\": \"white\", \"gridwidth\": 2, \"linecolor\": \"white\", \"showbackground\": true, \"ticks\": \"\", \"zerolinecolor\": \"white\"}, \"yaxis\": {\"backgroundcolor\": \"#E5ECF6\", \"gridcolor\": \"white\", \"gridwidth\": 2, \"linecolor\": \"white\", \"showbackground\": true, \"ticks\": \"\", \"zerolinecolor\": \"white\"}, \"zaxis\": {\"backgroundcolor\": \"#E5ECF6\", \"gridcolor\": \"white\", \"gridwidth\": 2, \"linecolor\": \"white\", \"showbackground\": true, \"ticks\": \"\", \"zerolinecolor\": \"white\"}}, \"shapedefaults\": {\"line\": {\"color\": \"#2a3f5f\"}}, \"ternary\": {\"aaxis\": {\"gridcolor\": \"white\", \"linecolor\": \"white\", \"ticks\": \"\"}, \"baxis\": {\"gridcolor\": \"white\", \"linecolor\": \"white\", \"ticks\": \"\"}, \"bgcolor\": \"#E5ECF6\", \"caxis\": {\"gridcolor\": \"white\", \"linecolor\": \"white\", \"ticks\": \"\"}}, \"title\": {\"x\": 0.05}, \"xaxis\": {\"automargin\": true, \"gridcolor\": \"white\", \"linecolor\": \"white\", \"ticks\": \"\", \"title\": {\"standoff\": 15}, \"zerolinecolor\": \"white\", \"zerolinewidth\": 2}, \"yaxis\": {\"automargin\": true, \"gridcolor\": \"white\", \"linecolor\": \"white\", \"ticks\": \"\", \"title\": {\"standoff\": 15}, \"zerolinecolor\": \"white\", \"zerolinewidth\": 2}}}, \"xaxis\": {\"anchor\": \"y\", \"domain\": [0.0, 1.0], \"title\": {\"text\": \"BedroomAbvGr\"}}, \"yaxis\": {\"anchor\": \"x\", \"domain\": [0.0, 1.0], \"title\": {\"text\": \"SalePrice\"}}},                        {\"responsive\": true}                    ).then(function(){\n",
       "                            \n",
       "var gd = document.getElementById('cbb0dad2-0d22-4661-834e-bc8d76e83055');\n",
       "var x = new MutationObserver(function (mutations, observer) {{\n",
       "        var display = window.getComputedStyle(gd).display;\n",
       "        if (!display || display === 'none') {{\n",
       "            console.log([gd, 'removed!']);\n",
       "            Plotly.purge(gd);\n",
       "            observer.disconnect();\n",
       "        }}\n",
       "}});\n",
       "\n",
       "// Listen for the removal of the full notebook cells\n",
       "var notebookContainer = gd.closest('#notebook-container');\n",
       "if (notebookContainer) {{\n",
       "    x.observe(notebookContainer, {childList: true});\n",
       "}}\n",
       "\n",
       "// Listen for the clearing of the current output cell\n",
       "var outputEl = gd.closest('.output');\n",
       "if (outputEl) {{\n",
       "    x.observe(outputEl, {childList: true});\n",
       "}}\n",
       "\n",
       "                        })                };                });            </script>        </div>"
      ]
     },
     "metadata": {},
     "output_type": "display_data"
    }
   ],
   "source": [
    "p = px.scatter(df, x = 'BedroomAbvGr', y = 'SalePrice', color = 'Neighborhood')\n",
    "p.show()"
   ]
  },
  {
   "cell_type": "code",
   "execution_count": 80,
   "metadata": {},
   "outputs": [
    {
     "data": {
      "application/vnd.plotly.v1+json": {
       "config": {
        "plotlyServerURL": "https://plot.ly"
       },
       "data": [
        {
         "alignmentgroup": "True",
         "hovertemplate": "Neighborhood=%{x}<br>PricePerSF=%{y}<extra></extra>",
         "legendgroup": "",
         "marker": {
          "color": "#636efa"
         },
         "name": "",
         "offsetgroup": "",
         "orientation": "v",
         "showlegend": false,
         "textposition": "auto",
         "type": "bar",
         "x": [
          "StoneBr",
          "NridgHt",
          "Veenker",
          "Somerst",
          "Timber",
          "CollgCr",
          "Blmngtn",
          "NoRidge",
          "Mitchel",
          "ClearCr",
          "Crawfor",
          "SawyerW",
          "Gilbert",
          "Sawyer",
          "NPkVill",
          "NAmes",
          "NWAmes",
          "BrkSide",
          "MeadowV",
          "Edwards",
          "Blueste",
          "OldTown",
          "IDOTRR",
          "BrDale",
          "SWISU"
         ],
         "xaxis": "x",
         "y": [
          165.40227532235392,
          164.57805723210183,
          154.9809137507573,
          141.6383402412789,
          139.76648322039006,
          136.78367951579068,
          136.56697363609894,
          132.27168705070494,
          126.01744863615828,
          124.66932775708311,
          120.5140912591846,
          119.7044242196549,
          119.13648863684901,
          117.85616299660873,
          116.72689144012816,
          116.24214847656599,
          111.84834925438753,
          107.0009785345368,
          101.92620057171746,
          101.83295816841986,
          98.96936920731005,
          92.75903074860508,
          92.23972897179952,
          91.95054338209853,
          89.42103509554786
         ],
         "yaxis": "y"
        }
       ],
       "layout": {
        "barmode": "relative",
        "legend": {
         "tracegroupgap": 0
        },
        "margin": {
         "t": 60
        },
        "template": {
         "data": {
          "bar": [
           {
            "error_x": {
             "color": "#2a3f5f"
            },
            "error_y": {
             "color": "#2a3f5f"
            },
            "marker": {
             "line": {
              "color": "#E5ECF6",
              "width": 0.5
             }
            },
            "type": "bar"
           }
          ],
          "barpolar": [
           {
            "marker": {
             "line": {
              "color": "#E5ECF6",
              "width": 0.5
             }
            },
            "type": "barpolar"
           }
          ],
          "carpet": [
           {
            "aaxis": {
             "endlinecolor": "#2a3f5f",
             "gridcolor": "white",
             "linecolor": "white",
             "minorgridcolor": "white",
             "startlinecolor": "#2a3f5f"
            },
            "baxis": {
             "endlinecolor": "#2a3f5f",
             "gridcolor": "white",
             "linecolor": "white",
             "minorgridcolor": "white",
             "startlinecolor": "#2a3f5f"
            },
            "type": "carpet"
           }
          ],
          "choropleth": [
           {
            "colorbar": {
             "outlinewidth": 0,
             "ticks": ""
            },
            "type": "choropleth"
           }
          ],
          "contour": [
           {
            "colorbar": {
             "outlinewidth": 0,
             "ticks": ""
            },
            "colorscale": [
             [
              0,
              "#0d0887"
             ],
             [
              0.1111111111111111,
              "#46039f"
             ],
             [
              0.2222222222222222,
              "#7201a8"
             ],
             [
              0.3333333333333333,
              "#9c179e"
             ],
             [
              0.4444444444444444,
              "#bd3786"
             ],
             [
              0.5555555555555556,
              "#d8576b"
             ],
             [
              0.6666666666666666,
              "#ed7953"
             ],
             [
              0.7777777777777778,
              "#fb9f3a"
             ],
             [
              0.8888888888888888,
              "#fdca26"
             ],
             [
              1,
              "#f0f921"
             ]
            ],
            "type": "contour"
           }
          ],
          "contourcarpet": [
           {
            "colorbar": {
             "outlinewidth": 0,
             "ticks": ""
            },
            "type": "contourcarpet"
           }
          ],
          "heatmap": [
           {
            "colorbar": {
             "outlinewidth": 0,
             "ticks": ""
            },
            "colorscale": [
             [
              0,
              "#0d0887"
             ],
             [
              0.1111111111111111,
              "#46039f"
             ],
             [
              0.2222222222222222,
              "#7201a8"
             ],
             [
              0.3333333333333333,
              "#9c179e"
             ],
             [
              0.4444444444444444,
              "#bd3786"
             ],
             [
              0.5555555555555556,
              "#d8576b"
             ],
             [
              0.6666666666666666,
              "#ed7953"
             ],
             [
              0.7777777777777778,
              "#fb9f3a"
             ],
             [
              0.8888888888888888,
              "#fdca26"
             ],
             [
              1,
              "#f0f921"
             ]
            ],
            "type": "heatmap"
           }
          ],
          "heatmapgl": [
           {
            "colorbar": {
             "outlinewidth": 0,
             "ticks": ""
            },
            "colorscale": [
             [
              0,
              "#0d0887"
             ],
             [
              0.1111111111111111,
              "#46039f"
             ],
             [
              0.2222222222222222,
              "#7201a8"
             ],
             [
              0.3333333333333333,
              "#9c179e"
             ],
             [
              0.4444444444444444,
              "#bd3786"
             ],
             [
              0.5555555555555556,
              "#d8576b"
             ],
             [
              0.6666666666666666,
              "#ed7953"
             ],
             [
              0.7777777777777778,
              "#fb9f3a"
             ],
             [
              0.8888888888888888,
              "#fdca26"
             ],
             [
              1,
              "#f0f921"
             ]
            ],
            "type": "heatmapgl"
           }
          ],
          "histogram": [
           {
            "marker": {
             "colorbar": {
              "outlinewidth": 0,
              "ticks": ""
             }
            },
            "type": "histogram"
           }
          ],
          "histogram2d": [
           {
            "colorbar": {
             "outlinewidth": 0,
             "ticks": ""
            },
            "colorscale": [
             [
              0,
              "#0d0887"
             ],
             [
              0.1111111111111111,
              "#46039f"
             ],
             [
              0.2222222222222222,
              "#7201a8"
             ],
             [
              0.3333333333333333,
              "#9c179e"
             ],
             [
              0.4444444444444444,
              "#bd3786"
             ],
             [
              0.5555555555555556,
              "#d8576b"
             ],
             [
              0.6666666666666666,
              "#ed7953"
             ],
             [
              0.7777777777777778,
              "#fb9f3a"
             ],
             [
              0.8888888888888888,
              "#fdca26"
             ],
             [
              1,
              "#f0f921"
             ]
            ],
            "type": "histogram2d"
           }
          ],
          "histogram2dcontour": [
           {
            "colorbar": {
             "outlinewidth": 0,
             "ticks": ""
            },
            "colorscale": [
             [
              0,
              "#0d0887"
             ],
             [
              0.1111111111111111,
              "#46039f"
             ],
             [
              0.2222222222222222,
              "#7201a8"
             ],
             [
              0.3333333333333333,
              "#9c179e"
             ],
             [
              0.4444444444444444,
              "#bd3786"
             ],
             [
              0.5555555555555556,
              "#d8576b"
             ],
             [
              0.6666666666666666,
              "#ed7953"
             ],
             [
              0.7777777777777778,
              "#fb9f3a"
             ],
             [
              0.8888888888888888,
              "#fdca26"
             ],
             [
              1,
              "#f0f921"
             ]
            ],
            "type": "histogram2dcontour"
           }
          ],
          "mesh3d": [
           {
            "colorbar": {
             "outlinewidth": 0,
             "ticks": ""
            },
            "type": "mesh3d"
           }
          ],
          "parcoords": [
           {
            "line": {
             "colorbar": {
              "outlinewidth": 0,
              "ticks": ""
             }
            },
            "type": "parcoords"
           }
          ],
          "pie": [
           {
            "automargin": true,
            "type": "pie"
           }
          ],
          "scatter": [
           {
            "marker": {
             "colorbar": {
              "outlinewidth": 0,
              "ticks": ""
             }
            },
            "type": "scatter"
           }
          ],
          "scatter3d": [
           {
            "line": {
             "colorbar": {
              "outlinewidth": 0,
              "ticks": ""
             }
            },
            "marker": {
             "colorbar": {
              "outlinewidth": 0,
              "ticks": ""
             }
            },
            "type": "scatter3d"
           }
          ],
          "scattercarpet": [
           {
            "marker": {
             "colorbar": {
              "outlinewidth": 0,
              "ticks": ""
             }
            },
            "type": "scattercarpet"
           }
          ],
          "scattergeo": [
           {
            "marker": {
             "colorbar": {
              "outlinewidth": 0,
              "ticks": ""
             }
            },
            "type": "scattergeo"
           }
          ],
          "scattergl": [
           {
            "marker": {
             "colorbar": {
              "outlinewidth": 0,
              "ticks": ""
             }
            },
            "type": "scattergl"
           }
          ],
          "scattermapbox": [
           {
            "marker": {
             "colorbar": {
              "outlinewidth": 0,
              "ticks": ""
             }
            },
            "type": "scattermapbox"
           }
          ],
          "scatterpolar": [
           {
            "marker": {
             "colorbar": {
              "outlinewidth": 0,
              "ticks": ""
             }
            },
            "type": "scatterpolar"
           }
          ],
          "scatterpolargl": [
           {
            "marker": {
             "colorbar": {
              "outlinewidth": 0,
              "ticks": ""
             }
            },
            "type": "scatterpolargl"
           }
          ],
          "scatterternary": [
           {
            "marker": {
             "colorbar": {
              "outlinewidth": 0,
              "ticks": ""
             }
            },
            "type": "scatterternary"
           }
          ],
          "surface": [
           {
            "colorbar": {
             "outlinewidth": 0,
             "ticks": ""
            },
            "colorscale": [
             [
              0,
              "#0d0887"
             ],
             [
              0.1111111111111111,
              "#46039f"
             ],
             [
              0.2222222222222222,
              "#7201a8"
             ],
             [
              0.3333333333333333,
              "#9c179e"
             ],
             [
              0.4444444444444444,
              "#bd3786"
             ],
             [
              0.5555555555555556,
              "#d8576b"
             ],
             [
              0.6666666666666666,
              "#ed7953"
             ],
             [
              0.7777777777777778,
              "#fb9f3a"
             ],
             [
              0.8888888888888888,
              "#fdca26"
             ],
             [
              1,
              "#f0f921"
             ]
            ],
            "type": "surface"
           }
          ],
          "table": [
           {
            "cells": {
             "fill": {
              "color": "#EBF0F8"
             },
             "line": {
              "color": "white"
             }
            },
            "header": {
             "fill": {
              "color": "#C8D4E3"
             },
             "line": {
              "color": "white"
             }
            },
            "type": "table"
           }
          ]
         },
         "layout": {
          "annotationdefaults": {
           "arrowcolor": "#2a3f5f",
           "arrowhead": 0,
           "arrowwidth": 1
          },
          "autotypenumbers": "strict",
          "coloraxis": {
           "colorbar": {
            "outlinewidth": 0,
            "ticks": ""
           }
          },
          "colorscale": {
           "diverging": [
            [
             0,
             "#8e0152"
            ],
            [
             0.1,
             "#c51b7d"
            ],
            [
             0.2,
             "#de77ae"
            ],
            [
             0.3,
             "#f1b6da"
            ],
            [
             0.4,
             "#fde0ef"
            ],
            [
             0.5,
             "#f7f7f7"
            ],
            [
             0.6,
             "#e6f5d0"
            ],
            [
             0.7,
             "#b8e186"
            ],
            [
             0.8,
             "#7fbc41"
            ],
            [
             0.9,
             "#4d9221"
            ],
            [
             1,
             "#276419"
            ]
           ],
           "sequential": [
            [
             0,
             "#0d0887"
            ],
            [
             0.1111111111111111,
             "#46039f"
            ],
            [
             0.2222222222222222,
             "#7201a8"
            ],
            [
             0.3333333333333333,
             "#9c179e"
            ],
            [
             0.4444444444444444,
             "#bd3786"
            ],
            [
             0.5555555555555556,
             "#d8576b"
            ],
            [
             0.6666666666666666,
             "#ed7953"
            ],
            [
             0.7777777777777778,
             "#fb9f3a"
            ],
            [
             0.8888888888888888,
             "#fdca26"
            ],
            [
             1,
             "#f0f921"
            ]
           ],
           "sequentialminus": [
            [
             0,
             "#0d0887"
            ],
            [
             0.1111111111111111,
             "#46039f"
            ],
            [
             0.2222222222222222,
             "#7201a8"
            ],
            [
             0.3333333333333333,
             "#9c179e"
            ],
            [
             0.4444444444444444,
             "#bd3786"
            ],
            [
             0.5555555555555556,
             "#d8576b"
            ],
            [
             0.6666666666666666,
             "#ed7953"
            ],
            [
             0.7777777777777778,
             "#fb9f3a"
            ],
            [
             0.8888888888888888,
             "#fdca26"
            ],
            [
             1,
             "#f0f921"
            ]
           ]
          },
          "colorway": [
           "#636efa",
           "#EF553B",
           "#00cc96",
           "#ab63fa",
           "#FFA15A",
           "#19d3f3",
           "#FF6692",
           "#B6E880",
           "#FF97FF",
           "#FECB52"
          ],
          "font": {
           "color": "#2a3f5f"
          },
          "geo": {
           "bgcolor": "white",
           "lakecolor": "white",
           "landcolor": "#E5ECF6",
           "showlakes": true,
           "showland": true,
           "subunitcolor": "white"
          },
          "hoverlabel": {
           "align": "left"
          },
          "hovermode": "closest",
          "mapbox": {
           "style": "light"
          },
          "paper_bgcolor": "white",
          "plot_bgcolor": "#E5ECF6",
          "polar": {
           "angularaxis": {
            "gridcolor": "white",
            "linecolor": "white",
            "ticks": ""
           },
           "bgcolor": "#E5ECF6",
           "radialaxis": {
            "gridcolor": "white",
            "linecolor": "white",
            "ticks": ""
           }
          },
          "scene": {
           "xaxis": {
            "backgroundcolor": "#E5ECF6",
            "gridcolor": "white",
            "gridwidth": 2,
            "linecolor": "white",
            "showbackground": true,
            "ticks": "",
            "zerolinecolor": "white"
           },
           "yaxis": {
            "backgroundcolor": "#E5ECF6",
            "gridcolor": "white",
            "gridwidth": 2,
            "linecolor": "white",
            "showbackground": true,
            "ticks": "",
            "zerolinecolor": "white"
           },
           "zaxis": {
            "backgroundcolor": "#E5ECF6",
            "gridcolor": "white",
            "gridwidth": 2,
            "linecolor": "white",
            "showbackground": true,
            "ticks": "",
            "zerolinecolor": "white"
           }
          },
          "shapedefaults": {
           "line": {
            "color": "#2a3f5f"
           }
          },
          "ternary": {
           "aaxis": {
            "gridcolor": "white",
            "linecolor": "white",
            "ticks": ""
           },
           "baxis": {
            "gridcolor": "white",
            "linecolor": "white",
            "ticks": ""
           },
           "bgcolor": "#E5ECF6",
           "caxis": {
            "gridcolor": "white",
            "linecolor": "white",
            "ticks": ""
           }
          },
          "title": {
           "x": 0.05
          },
          "xaxis": {
           "automargin": true,
           "gridcolor": "white",
           "linecolor": "white",
           "ticks": "",
           "title": {
            "standoff": 15
           },
           "zerolinecolor": "white",
           "zerolinewidth": 2
          },
          "yaxis": {
           "automargin": true,
           "gridcolor": "white",
           "linecolor": "white",
           "ticks": "",
           "title": {
            "standoff": 15
           },
           "zerolinecolor": "white",
           "zerolinewidth": 2
          }
         }
        },
        "xaxis": {
         "anchor": "y",
         "domain": [
          0,
          1
         ],
         "title": {
          "text": "Neighborhood"
         }
        },
        "yaxis": {
         "anchor": "x",
         "domain": [
          0,
          1
         ],
         "title": {
          "text": "PricePerSF"
         }
        }
       }
      },
      "text/html": [
       "<div>                            <div id=\"46a44c64-7945-49aa-a2db-6bbe3546e74c\" class=\"plotly-graph-div\" style=\"height:525px; width:100%;\"></div>            <script type=\"text/javascript\">                require([\"plotly\"], function(Plotly) {                    window.PLOTLYENV=window.PLOTLYENV || {};                                    if (document.getElementById(\"46a44c64-7945-49aa-a2db-6bbe3546e74c\")) {                    Plotly.newPlot(                        \"46a44c64-7945-49aa-a2db-6bbe3546e74c\",                        [{\"alignmentgroup\": \"True\", \"hovertemplate\": \"Neighborhood=%{x}<br>PricePerSF=%{y}<extra></extra>\", \"legendgroup\": \"\", \"marker\": {\"color\": \"#636efa\"}, \"name\": \"\", \"offsetgroup\": \"\", \"orientation\": \"v\", \"showlegend\": false, \"textposition\": \"auto\", \"type\": \"bar\", \"x\": [\"StoneBr\", \"NridgHt\", \"Veenker\", \"Somerst\", \"Timber\", \"CollgCr\", \"Blmngtn\", \"NoRidge\", \"Mitchel\", \"ClearCr\", \"Crawfor\", \"SawyerW\", \"Gilbert\", \"Sawyer\", \"NPkVill\", \"NAmes\", \"NWAmes\", \"BrkSide\", \"MeadowV\", \"Edwards\", \"Blueste\", \"OldTown\", \"IDOTRR\", \"BrDale\", \"SWISU\"], \"xaxis\": \"x\", \"y\": [165.40227532235392, 164.57805723210183, 154.9809137507573, 141.6383402412789, 139.76648322039006, 136.78367951579068, 136.56697363609894, 132.27168705070494, 126.01744863615828, 124.66932775708311, 120.5140912591846, 119.7044242196549, 119.13648863684901, 117.85616299660873, 116.72689144012816, 116.24214847656599, 111.84834925438753, 107.0009785345368, 101.92620057171746, 101.83295816841986, 98.96936920731005, 92.75903074860508, 92.23972897179952, 91.95054338209853, 89.42103509554786], \"yaxis\": \"y\"}],                        {\"barmode\": \"relative\", \"legend\": {\"tracegroupgap\": 0}, \"margin\": {\"t\": 60}, \"template\": {\"data\": {\"bar\": [{\"error_x\": {\"color\": \"#2a3f5f\"}, \"error_y\": {\"color\": \"#2a3f5f\"}, \"marker\": {\"line\": {\"color\": \"#E5ECF6\", \"width\": 0.5}}, \"type\": \"bar\"}], \"barpolar\": [{\"marker\": {\"line\": {\"color\": \"#E5ECF6\", \"width\": 0.5}}, \"type\": \"barpolar\"}], \"carpet\": [{\"aaxis\": {\"endlinecolor\": \"#2a3f5f\", \"gridcolor\": \"white\", \"linecolor\": \"white\", \"minorgridcolor\": \"white\", \"startlinecolor\": \"#2a3f5f\"}, \"baxis\": {\"endlinecolor\": \"#2a3f5f\", \"gridcolor\": \"white\", \"linecolor\": \"white\", \"minorgridcolor\": \"white\", \"startlinecolor\": \"#2a3f5f\"}, \"type\": \"carpet\"}], \"choropleth\": [{\"colorbar\": {\"outlinewidth\": 0, \"ticks\": \"\"}, \"type\": \"choropleth\"}], \"contour\": [{\"colorbar\": {\"outlinewidth\": 0, \"ticks\": \"\"}, \"colorscale\": [[0.0, \"#0d0887\"], [0.1111111111111111, \"#46039f\"], [0.2222222222222222, \"#7201a8\"], [0.3333333333333333, \"#9c179e\"], [0.4444444444444444, \"#bd3786\"], [0.5555555555555556, \"#d8576b\"], [0.6666666666666666, \"#ed7953\"], [0.7777777777777778, \"#fb9f3a\"], [0.8888888888888888, \"#fdca26\"], [1.0, \"#f0f921\"]], \"type\": \"contour\"}], \"contourcarpet\": [{\"colorbar\": {\"outlinewidth\": 0, \"ticks\": \"\"}, \"type\": \"contourcarpet\"}], \"heatmap\": [{\"colorbar\": {\"outlinewidth\": 0, \"ticks\": \"\"}, \"colorscale\": [[0.0, \"#0d0887\"], [0.1111111111111111, \"#46039f\"], [0.2222222222222222, \"#7201a8\"], [0.3333333333333333, \"#9c179e\"], [0.4444444444444444, \"#bd3786\"], [0.5555555555555556, \"#d8576b\"], [0.6666666666666666, \"#ed7953\"], [0.7777777777777778, \"#fb9f3a\"], [0.8888888888888888, \"#fdca26\"], [1.0, \"#f0f921\"]], \"type\": \"heatmap\"}], \"heatmapgl\": [{\"colorbar\": {\"outlinewidth\": 0, \"ticks\": \"\"}, \"colorscale\": [[0.0, \"#0d0887\"], [0.1111111111111111, \"#46039f\"], [0.2222222222222222, \"#7201a8\"], [0.3333333333333333, \"#9c179e\"], [0.4444444444444444, \"#bd3786\"], [0.5555555555555556, \"#d8576b\"], [0.6666666666666666, \"#ed7953\"], [0.7777777777777778, \"#fb9f3a\"], [0.8888888888888888, \"#fdca26\"], [1.0, \"#f0f921\"]], \"type\": \"heatmapgl\"}], \"histogram\": [{\"marker\": {\"colorbar\": {\"outlinewidth\": 0, \"ticks\": \"\"}}, \"type\": \"histogram\"}], \"histogram2d\": [{\"colorbar\": {\"outlinewidth\": 0, \"ticks\": \"\"}, \"colorscale\": [[0.0, \"#0d0887\"], [0.1111111111111111, \"#46039f\"], [0.2222222222222222, \"#7201a8\"], [0.3333333333333333, \"#9c179e\"], [0.4444444444444444, \"#bd3786\"], [0.5555555555555556, \"#d8576b\"], [0.6666666666666666, \"#ed7953\"], [0.7777777777777778, \"#fb9f3a\"], [0.8888888888888888, \"#fdca26\"], [1.0, \"#f0f921\"]], \"type\": \"histogram2d\"}], \"histogram2dcontour\": [{\"colorbar\": {\"outlinewidth\": 0, \"ticks\": \"\"}, \"colorscale\": [[0.0, \"#0d0887\"], [0.1111111111111111, \"#46039f\"], [0.2222222222222222, \"#7201a8\"], [0.3333333333333333, \"#9c179e\"], [0.4444444444444444, \"#bd3786\"], [0.5555555555555556, \"#d8576b\"], [0.6666666666666666, \"#ed7953\"], [0.7777777777777778, \"#fb9f3a\"], [0.8888888888888888, \"#fdca26\"], [1.0, \"#f0f921\"]], \"type\": \"histogram2dcontour\"}], \"mesh3d\": [{\"colorbar\": {\"outlinewidth\": 0, \"ticks\": \"\"}, \"type\": \"mesh3d\"}], \"parcoords\": [{\"line\": {\"colorbar\": {\"outlinewidth\": 0, \"ticks\": \"\"}}, \"type\": \"parcoords\"}], \"pie\": [{\"automargin\": true, \"type\": \"pie\"}], \"scatter\": [{\"marker\": {\"colorbar\": {\"outlinewidth\": 0, \"ticks\": \"\"}}, \"type\": \"scatter\"}], \"scatter3d\": [{\"line\": {\"colorbar\": {\"outlinewidth\": 0, \"ticks\": \"\"}}, \"marker\": {\"colorbar\": {\"outlinewidth\": 0, \"ticks\": \"\"}}, \"type\": \"scatter3d\"}], \"scattercarpet\": [{\"marker\": {\"colorbar\": {\"outlinewidth\": 0, \"ticks\": \"\"}}, \"type\": \"scattercarpet\"}], \"scattergeo\": [{\"marker\": {\"colorbar\": {\"outlinewidth\": 0, \"ticks\": \"\"}}, \"type\": \"scattergeo\"}], \"scattergl\": [{\"marker\": {\"colorbar\": {\"outlinewidth\": 0, \"ticks\": \"\"}}, \"type\": \"scattergl\"}], \"scattermapbox\": [{\"marker\": {\"colorbar\": {\"outlinewidth\": 0, \"ticks\": \"\"}}, \"type\": \"scattermapbox\"}], \"scatterpolar\": [{\"marker\": {\"colorbar\": {\"outlinewidth\": 0, \"ticks\": \"\"}}, \"type\": \"scatterpolar\"}], \"scatterpolargl\": [{\"marker\": {\"colorbar\": {\"outlinewidth\": 0, \"ticks\": \"\"}}, \"type\": \"scatterpolargl\"}], \"scatterternary\": [{\"marker\": {\"colorbar\": {\"outlinewidth\": 0, \"ticks\": \"\"}}, \"type\": \"scatterternary\"}], \"surface\": [{\"colorbar\": {\"outlinewidth\": 0, \"ticks\": \"\"}, \"colorscale\": [[0.0, \"#0d0887\"], [0.1111111111111111, \"#46039f\"], [0.2222222222222222, \"#7201a8\"], [0.3333333333333333, \"#9c179e\"], [0.4444444444444444, \"#bd3786\"], [0.5555555555555556, \"#d8576b\"], [0.6666666666666666, \"#ed7953\"], [0.7777777777777778, \"#fb9f3a\"], [0.8888888888888888, \"#fdca26\"], [1.0, \"#f0f921\"]], \"type\": \"surface\"}], \"table\": [{\"cells\": {\"fill\": {\"color\": \"#EBF0F8\"}, \"line\": {\"color\": \"white\"}}, \"header\": {\"fill\": {\"color\": \"#C8D4E3\"}, \"line\": {\"color\": \"white\"}}, \"type\": \"table\"}]}, \"layout\": {\"annotationdefaults\": {\"arrowcolor\": \"#2a3f5f\", \"arrowhead\": 0, \"arrowwidth\": 1}, \"autotypenumbers\": \"strict\", \"coloraxis\": {\"colorbar\": {\"outlinewidth\": 0, \"ticks\": \"\"}}, \"colorscale\": {\"diverging\": [[0, \"#8e0152\"], [0.1, \"#c51b7d\"], [0.2, \"#de77ae\"], [0.3, \"#f1b6da\"], [0.4, \"#fde0ef\"], [0.5, \"#f7f7f7\"], [0.6, \"#e6f5d0\"], [0.7, \"#b8e186\"], [0.8, \"#7fbc41\"], [0.9, \"#4d9221\"], [1, \"#276419\"]], \"sequential\": [[0.0, \"#0d0887\"], [0.1111111111111111, \"#46039f\"], [0.2222222222222222, \"#7201a8\"], [0.3333333333333333, \"#9c179e\"], [0.4444444444444444, \"#bd3786\"], [0.5555555555555556, \"#d8576b\"], [0.6666666666666666, \"#ed7953\"], [0.7777777777777778, \"#fb9f3a\"], [0.8888888888888888, \"#fdca26\"], [1.0, \"#f0f921\"]], \"sequentialminus\": [[0.0, \"#0d0887\"], [0.1111111111111111, \"#46039f\"], [0.2222222222222222, \"#7201a8\"], [0.3333333333333333, \"#9c179e\"], [0.4444444444444444, \"#bd3786\"], [0.5555555555555556, \"#d8576b\"], [0.6666666666666666, \"#ed7953\"], [0.7777777777777778, \"#fb9f3a\"], [0.8888888888888888, \"#fdca26\"], [1.0, \"#f0f921\"]]}, \"colorway\": [\"#636efa\", \"#EF553B\", \"#00cc96\", \"#ab63fa\", \"#FFA15A\", \"#19d3f3\", \"#FF6692\", \"#B6E880\", \"#FF97FF\", \"#FECB52\"], \"font\": {\"color\": \"#2a3f5f\"}, \"geo\": {\"bgcolor\": \"white\", \"lakecolor\": \"white\", \"landcolor\": \"#E5ECF6\", \"showlakes\": true, \"showland\": true, \"subunitcolor\": \"white\"}, \"hoverlabel\": {\"align\": \"left\"}, \"hovermode\": \"closest\", \"mapbox\": {\"style\": \"light\"}, \"paper_bgcolor\": \"white\", \"plot_bgcolor\": \"#E5ECF6\", \"polar\": {\"angularaxis\": {\"gridcolor\": \"white\", \"linecolor\": \"white\", \"ticks\": \"\"}, \"bgcolor\": \"#E5ECF6\", \"radialaxis\": {\"gridcolor\": \"white\", \"linecolor\": \"white\", \"ticks\": \"\"}}, \"scene\": {\"xaxis\": {\"backgroundcolor\": \"#E5ECF6\", \"gridcolor\": \"white\", \"gridwidth\": 2, \"linecolor\": \"white\", \"showbackground\": true, \"ticks\": \"\", \"zerolinecolor\": \"white\"}, \"yaxis\": {\"backgroundcolor\": \"#E5ECF6\", \"gridcolor\": \"white\", \"gridwidth\": 2, \"linecolor\": \"white\", \"showbackground\": true, \"ticks\": \"\", \"zerolinecolor\": \"white\"}, \"zaxis\": {\"backgroundcolor\": \"#E5ECF6\", \"gridcolor\": \"white\", \"gridwidth\": 2, \"linecolor\": \"white\", \"showbackground\": true, \"ticks\": \"\", \"zerolinecolor\": \"white\"}}, \"shapedefaults\": {\"line\": {\"color\": \"#2a3f5f\"}}, \"ternary\": {\"aaxis\": {\"gridcolor\": \"white\", \"linecolor\": \"white\", \"ticks\": \"\"}, \"baxis\": {\"gridcolor\": \"white\", \"linecolor\": \"white\", \"ticks\": \"\"}, \"bgcolor\": \"#E5ECF6\", \"caxis\": {\"gridcolor\": \"white\", \"linecolor\": \"white\", \"ticks\": \"\"}}, \"title\": {\"x\": 0.05}, \"xaxis\": {\"automargin\": true, \"gridcolor\": \"white\", \"linecolor\": \"white\", \"ticks\": \"\", \"title\": {\"standoff\": 15}, \"zerolinecolor\": \"white\", \"zerolinewidth\": 2}, \"yaxis\": {\"automargin\": true, \"gridcolor\": \"white\", \"linecolor\": \"white\", \"ticks\": \"\", \"title\": {\"standoff\": 15}, \"zerolinecolor\": \"white\", \"zerolinewidth\": 2}}}, \"xaxis\": {\"anchor\": \"y\", \"domain\": [0.0, 1.0], \"title\": {\"text\": \"Neighborhood\"}}, \"yaxis\": {\"anchor\": \"x\", \"domain\": [0.0, 1.0], \"title\": {\"text\": \"PricePerSF\"}}},                        {\"responsive\": true}                    ).then(function(){\n",
       "                            \n",
       "var gd = document.getElementById('46a44c64-7945-49aa-a2db-6bbe3546e74c');\n",
       "var x = new MutationObserver(function (mutations, observer) {{\n",
       "        var display = window.getComputedStyle(gd).display;\n",
       "        if (!display || display === 'none') {{\n",
       "            console.log([gd, 'removed!']);\n",
       "            Plotly.purge(gd);\n",
       "            observer.disconnect();\n",
       "        }}\n",
       "}});\n",
       "\n",
       "// Listen for the removal of the full notebook cells\n",
       "var notebookContainer = gd.closest('#notebook-container');\n",
       "if (notebookContainer) {{\n",
       "    x.observe(notebookContainer, {childList: true});\n",
       "}}\n",
       "\n",
       "// Listen for the clearing of the current output cell\n",
       "var outputEl = gd.closest('.output');\n",
       "if (outputEl) {{\n",
       "    x.observe(outputEl, {childList: true});\n",
       "}}\n",
       "\n",
       "                        })                };                });            </script>        </div>"
      ]
     },
     "metadata": {},
     "output_type": "display_data"
    }
   ],
   "source": [
    "df['PricePerSF'] = df['SalePrice']/df['TotalSF']\n",
    "dfsum = df.groupby('Neighborhood').mean().PricePerSF.reset_index()\n",
    "dfsum = dfsum.sort_values(by = 'PricePerSF', ascending = False, axis = 0)\n",
    "p = px.bar(dfsum, x = 'Neighborhood', y = 'PricePerSF')\n",
    "p.show()"
   ]
  },
  {
   "cell_type": "code",
   "execution_count": null,
   "metadata": {},
   "outputs": [],
   "source": []
  }
 ],
 "metadata": {
  "kernelspec": {
   "display_name": "Python 3",
   "language": "python",
   "name": "python3"
  },
  "language_info": {
   "codemirror_mode": {
    "name": "ipython",
    "version": 3
   },
   "file_extension": ".py",
   "mimetype": "text/x-python",
   "name": "python",
   "nbconvert_exporter": "python",
   "pygments_lexer": "ipython3",
   "version": "3.6.5"
  }
 },
 "nbformat": 4,
 "nbformat_minor": 2
}
